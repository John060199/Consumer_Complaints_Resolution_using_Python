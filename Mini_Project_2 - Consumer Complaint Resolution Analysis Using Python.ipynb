{
 "cells": [
  {
   "cell_type": "markdown",
   "metadata": {
    "id": "KPpvecwEpopQ"
   },
   "source": [
    "## Mini Project 2"
   ]
  },
  {
   "cell_type": "markdown",
   "metadata": {
    "id": "qdiFBmcBpopt"
   },
   "source": [
    "Import required libraries"
   ]
  },
  {
   "cell_type": "code",
   "execution_count": 1,
   "metadata": {
    "id": "nRvORrhJpopv"
   },
   "outputs": [],
   "source": [
    "import pandas as pd\n",
    "import numpy as np\n",
    "import matplotlib.pyplot as plt\n",
    "import seaborn as sns\n",
    "from sklearn.model_selection import train_test_split, GridSearchCV\n",
    "from sklearn.preprocessing import StandardScaler\n",
    "from sklearn.decomposition import PCA\n",
    "from sklearn.linear_model import LogisticRegression\n",
    "from sklearn.tree import DecisionTreeClassifier\n",
    "from sklearn.ensemble import RandomForestClassifier\n",
    "from sklearn.neighbors import KNeighborsClassifier\n",
    "from sklearn.ensemble import AdaBoostClassifier\n",
    "from sklearn.ensemble import GradientBoostingClassifier\n",
    "from xgboost import XGBClassifier\n",
    "from datetime import datetime, date\n",
    "import string\n",
    "import nltk\n",
    "from nltk.tokenize import wordpunct_tokenize\n",
    "from nltk.corpus import stopwords\n",
    "from nltk.stem import WordNetLemmatizer, PorterStemmer\n",
    "from sklearn.feature_extraction.text import TfidfVectorizer\n",
    "from imblearn.over_sampling import SMOTE\n",
    "from sklearn.metrics import confusion_matrix, accuracy_score, precision_score, recall_score, f1_score"
   ]
  },
  {
   "cell_type": "code",
   "execution_count": 2,
   "metadata": {
    "scrolled": true
   },
   "outputs": [
    {
     "name": "stderr",
     "output_type": "stream",
     "text": [
      "[nltk_data] Downloading package stopwords to\n",
      "[nltk_data]     C:\\Users\\johnd\\AppData\\Roaming\\nltk_data...\n",
      "[nltk_data]   Package stopwords is already up-to-date!\n",
      "[nltk_data] Downloading package wordnet to\n",
      "[nltk_data]     C:\\Users\\johnd\\AppData\\Roaming\\nltk_data...\n",
      "[nltk_data]   Package wordnet is already up-to-date!\n",
      "[nltk_data] Downloading package omw-1.4 to\n",
      "[nltk_data]     C:\\Users\\johnd\\AppData\\Roaming\\nltk_data...\n",
      "[nltk_data]   Package omw-1.4 is already up-to-date!\n"
     ]
    },
    {
     "data": {
      "text/plain": [
       "True"
      ]
     },
     "execution_count": 2,
     "metadata": {},
     "output_type": "execute_result"
    }
   ],
   "source": [
    "nltk.download('stopwords')\n",
    "nltk.download('wordnet')\n",
    "nltk.download('omw-1.4')"
   ]
  },
  {
   "cell_type": "markdown",
   "metadata": {
    "id": "9psaFBmPpop0"
   },
   "source": [
    "Load given datasets"
   ]
  },
  {
   "cell_type": "code",
   "execution_count": 3,
   "metadata": {
    "id": "q3hRmG1Zpop3"
   },
   "outputs": [],
   "source": [
    "df_train = pd.read_csv('Consumer_Complaints_train.csv')\n",
    "df_test = pd.read_csv('Consumer_Complaints_test.csv')\n",
    "df1 = df_train.copy()\n",
    "df2 = df_test.copy()"
   ]
  },
  {
   "cell_type": "markdown",
   "metadata": {
    "id": "Xp8W3eXcpop5"
   },
   "source": [
    "## Print top 5 records of train dataset:"
   ]
  },
  {
   "cell_type": "code",
   "execution_count": 4,
   "metadata": {
    "id": "w1b67V24pop6"
   },
   "outputs": [
    {
     "data": {
      "text/html": [
       "<div>\n",
       "<style scoped>\n",
       "    .dataframe tbody tr th:only-of-type {\n",
       "        vertical-align: middle;\n",
       "    }\n",
       "\n",
       "    .dataframe tbody tr th {\n",
       "        vertical-align: top;\n",
       "    }\n",
       "\n",
       "    .dataframe thead th {\n",
       "        text-align: right;\n",
       "    }\n",
       "</style>\n",
       "<table border=\"1\" class=\"dataframe\">\n",
       "  <thead>\n",
       "    <tr style=\"text-align: right;\">\n",
       "      <th></th>\n",
       "      <th>Date received</th>\n",
       "      <th>Product</th>\n",
       "      <th>Sub-product</th>\n",
       "      <th>Issue</th>\n",
       "      <th>Sub-issue</th>\n",
       "      <th>Consumer complaint narrative</th>\n",
       "      <th>Company public response</th>\n",
       "      <th>Company</th>\n",
       "      <th>State</th>\n",
       "      <th>ZIP code</th>\n",
       "      <th>Tags</th>\n",
       "      <th>Consumer consent provided?</th>\n",
       "      <th>Submitted via</th>\n",
       "      <th>Date sent to company</th>\n",
       "      <th>Company response to consumer</th>\n",
       "      <th>Timely response?</th>\n",
       "      <th>Consumer disputed?</th>\n",
       "      <th>Complaint ID</th>\n",
       "    </tr>\n",
       "  </thead>\n",
       "  <tbody>\n",
       "    <tr>\n",
       "      <th>0</th>\n",
       "      <td>2015-10-14</td>\n",
       "      <td>Credit reporting</td>\n",
       "      <td>NaN</td>\n",
       "      <td>Incorrect information on credit report</td>\n",
       "      <td>Information is not mine</td>\n",
       "      <td>NaN</td>\n",
       "      <td>NaN</td>\n",
       "      <td>Equifax</td>\n",
       "      <td>GA</td>\n",
       "      <td>30134</td>\n",
       "      <td>NaN</td>\n",
       "      <td>Consent not provided</td>\n",
       "      <td>Web</td>\n",
       "      <td>2015-10-14</td>\n",
       "      <td>Closed with explanation</td>\n",
       "      <td>Yes</td>\n",
       "      <td>No</td>\n",
       "      <td>1605653</td>\n",
       "    </tr>\n",
       "    <tr>\n",
       "      <th>1</th>\n",
       "      <td>2015-04-26</td>\n",
       "      <td>Bank account or service</td>\n",
       "      <td>Other bank product/service</td>\n",
       "      <td>Deposits and withdrawals</td>\n",
       "      <td>NaN</td>\n",
       "      <td>RE : XXXX XXXX XXXX-PRIVILEGED AND CONFIDENTIA...</td>\n",
       "      <td>NaN</td>\n",
       "      <td>Wells Fargo &amp; Company</td>\n",
       "      <td>GA</td>\n",
       "      <td>319XX</td>\n",
       "      <td>NaN</td>\n",
       "      <td>Consent provided</td>\n",
       "      <td>Web</td>\n",
       "      <td>2015-04-26</td>\n",
       "      <td>Closed with explanation</td>\n",
       "      <td>Yes</td>\n",
       "      <td>Yes</td>\n",
       "      <td>1347613</td>\n",
       "    </tr>\n",
       "    <tr>\n",
       "      <th>2</th>\n",
       "      <td>2013-12-20</td>\n",
       "      <td>Credit card</td>\n",
       "      <td>NaN</td>\n",
       "      <td>Other</td>\n",
       "      <td>NaN</td>\n",
       "      <td>NaN</td>\n",
       "      <td>NaN</td>\n",
       "      <td>Citibank</td>\n",
       "      <td>SC</td>\n",
       "      <td>29203</td>\n",
       "      <td>NaN</td>\n",
       "      <td>NaN</td>\n",
       "      <td>Phone</td>\n",
       "      <td>2014-01-03</td>\n",
       "      <td>Closed with non-monetary relief</td>\n",
       "      <td>Yes</td>\n",
       "      <td>No</td>\n",
       "      <td>640394</td>\n",
       "    </tr>\n",
       "    <tr>\n",
       "      <th>3</th>\n",
       "      <td>2016-03-03</td>\n",
       "      <td>Debt collection</td>\n",
       "      <td>Other (i.e. phone, health club, etc.)</td>\n",
       "      <td>Disclosure verification of debt</td>\n",
       "      <td>Not given enough info to verify debt</td>\n",
       "      <td>NaN</td>\n",
       "      <td>Company has responded to the consumer and the ...</td>\n",
       "      <td>FAIR COLLECTIONS &amp; OUTSOURCING, INC.</td>\n",
       "      <td>OH</td>\n",
       "      <td>43082</td>\n",
       "      <td>NaN</td>\n",
       "      <td>NaN</td>\n",
       "      <td>Referral</td>\n",
       "      <td>2016-03-04</td>\n",
       "      <td>Closed with explanation</td>\n",
       "      <td>Yes</td>\n",
       "      <td>No</td>\n",
       "      <td>1815134</td>\n",
       "    </tr>\n",
       "    <tr>\n",
       "      <th>4</th>\n",
       "      <td>2015-01-30</td>\n",
       "      <td>Debt collection</td>\n",
       "      <td>Medical</td>\n",
       "      <td>Disclosure verification of debt</td>\n",
       "      <td>Not given enough info to verify debt</td>\n",
       "      <td>NaN</td>\n",
       "      <td>NaN</td>\n",
       "      <td>HCFS Health Care Financial Services, Inc.</td>\n",
       "      <td>CA</td>\n",
       "      <td>90036</td>\n",
       "      <td>NaN</td>\n",
       "      <td>NaN</td>\n",
       "      <td>Web</td>\n",
       "      <td>2015-01-30</td>\n",
       "      <td>Closed with explanation</td>\n",
       "      <td>Yes</td>\n",
       "      <td>Yes</td>\n",
       "      <td>1218613</td>\n",
       "    </tr>\n",
       "  </tbody>\n",
       "</table>\n",
       "</div>"
      ],
      "text/plain": [
       "  Date received                  Product  \\\n",
       "0    2015-10-14         Credit reporting   \n",
       "1    2015-04-26  Bank account or service   \n",
       "2    2013-12-20              Credit card   \n",
       "3    2016-03-03          Debt collection   \n",
       "4    2015-01-30          Debt collection   \n",
       "\n",
       "                             Sub-product  \\\n",
       "0                                    NaN   \n",
       "1             Other bank product/service   \n",
       "2                                    NaN   \n",
       "3  Other (i.e. phone, health club, etc.)   \n",
       "4                                Medical   \n",
       "\n",
       "                                    Issue  \\\n",
       "0  Incorrect information on credit report   \n",
       "1                Deposits and withdrawals   \n",
       "2                                   Other   \n",
       "3         Disclosure verification of debt   \n",
       "4         Disclosure verification of debt   \n",
       "\n",
       "                              Sub-issue  \\\n",
       "0               Information is not mine   \n",
       "1                                   NaN   \n",
       "2                                   NaN   \n",
       "3  Not given enough info to verify debt   \n",
       "4  Not given enough info to verify debt   \n",
       "\n",
       "                        Consumer complaint narrative  \\\n",
       "0                                                NaN   \n",
       "1  RE : XXXX XXXX XXXX-PRIVILEGED AND CONFIDENTIA...   \n",
       "2                                                NaN   \n",
       "3                                                NaN   \n",
       "4                                                NaN   \n",
       "\n",
       "                             Company public response  \\\n",
       "0                                                NaN   \n",
       "1                                                NaN   \n",
       "2                                                NaN   \n",
       "3  Company has responded to the consumer and the ...   \n",
       "4                                                NaN   \n",
       "\n",
       "                                     Company State ZIP code Tags  \\\n",
       "0                                    Equifax    GA    30134  NaN   \n",
       "1                      Wells Fargo & Company    GA    319XX  NaN   \n",
       "2                                   Citibank    SC    29203  NaN   \n",
       "3       FAIR COLLECTIONS & OUTSOURCING, INC.    OH    43082  NaN   \n",
       "4  HCFS Health Care Financial Services, Inc.    CA    90036  NaN   \n",
       "\n",
       "  Consumer consent provided? Submitted via Date sent to company  \\\n",
       "0       Consent not provided           Web           2015-10-14   \n",
       "1           Consent provided           Web           2015-04-26   \n",
       "2                        NaN         Phone           2014-01-03   \n",
       "3                        NaN      Referral           2016-03-04   \n",
       "4                        NaN           Web           2015-01-30   \n",
       "\n",
       "      Company response to consumer Timely response? Consumer disputed?  \\\n",
       "0          Closed with explanation              Yes                 No   \n",
       "1          Closed with explanation              Yes                Yes   \n",
       "2  Closed with non-monetary relief              Yes                 No   \n",
       "3          Closed with explanation              Yes                 No   \n",
       "4          Closed with explanation              Yes                Yes   \n",
       "\n",
       "   Complaint ID  \n",
       "0       1605653  \n",
       "1       1347613  \n",
       "2        640394  \n",
       "3       1815134  \n",
       "4       1218613  "
      ]
     },
     "execution_count": 4,
     "metadata": {},
     "output_type": "execute_result"
    }
   ],
   "source": [
    "df_train.head()"
   ]
  },
  {
   "cell_type": "markdown",
   "metadata": {
    "id": "vy0goz35pop7"
   },
   "source": [
    "## Print top 5 records of test dataset"
   ]
  },
  {
   "cell_type": "code",
   "execution_count": 5,
   "metadata": {
    "id": "M1GqR9Agpop9"
   },
   "outputs": [
    {
     "data": {
      "text/html": [
       "<div>\n",
       "<style scoped>\n",
       "    .dataframe tbody tr th:only-of-type {\n",
       "        vertical-align: middle;\n",
       "    }\n",
       "\n",
       "    .dataframe tbody tr th {\n",
       "        vertical-align: top;\n",
       "    }\n",
       "\n",
       "    .dataframe thead th {\n",
       "        text-align: right;\n",
       "    }\n",
       "</style>\n",
       "<table border=\"1\" class=\"dataframe\">\n",
       "  <thead>\n",
       "    <tr style=\"text-align: right;\">\n",
       "      <th></th>\n",
       "      <th>Date received</th>\n",
       "      <th>Product</th>\n",
       "      <th>Sub-product</th>\n",
       "      <th>Issue</th>\n",
       "      <th>Sub-issue</th>\n",
       "      <th>Consumer complaint narrative</th>\n",
       "      <th>Company public response</th>\n",
       "      <th>Company</th>\n",
       "      <th>State</th>\n",
       "      <th>ZIP code</th>\n",
       "      <th>Tags</th>\n",
       "      <th>Consumer consent provided?</th>\n",
       "      <th>Submitted via</th>\n",
       "      <th>Date sent to company</th>\n",
       "      <th>Company response to consumer</th>\n",
       "      <th>Timely response?</th>\n",
       "      <th>Complaint ID</th>\n",
       "    </tr>\n",
       "  </thead>\n",
       "  <tbody>\n",
       "    <tr>\n",
       "      <th>0</th>\n",
       "      <td>2015-01-17</td>\n",
       "      <td>Credit card</td>\n",
       "      <td>NaN</td>\n",
       "      <td>Customer service / Customer relations</td>\n",
       "      <td>NaN</td>\n",
       "      <td>NaN</td>\n",
       "      <td>NaN</td>\n",
       "      <td>Citibank</td>\n",
       "      <td>TX</td>\n",
       "      <td>75241</td>\n",
       "      <td>NaN</td>\n",
       "      <td>NaN</td>\n",
       "      <td>Web</td>\n",
       "      <td>2015-01-17</td>\n",
       "      <td>Closed with monetary relief</td>\n",
       "      <td>Yes</td>\n",
       "      <td>1198133</td>\n",
       "    </tr>\n",
       "    <tr>\n",
       "      <th>1</th>\n",
       "      <td>2016-06-22</td>\n",
       "      <td>Consumer Loan</td>\n",
       "      <td>Title loan</td>\n",
       "      <td>Payment to acct not credited</td>\n",
       "      <td>NaN</td>\n",
       "      <td>NaN</td>\n",
       "      <td>Company believes it acted appropriately as aut...</td>\n",
       "      <td>Larsen MacColl Partners II, L.P.</td>\n",
       "      <td>TX</td>\n",
       "      <td>76548</td>\n",
       "      <td>Servicemember</td>\n",
       "      <td>NaN</td>\n",
       "      <td>Phone</td>\n",
       "      <td>2016-06-22</td>\n",
       "      <td>Closed with explanation</td>\n",
       "      <td>Yes</td>\n",
       "      <td>1979989</td>\n",
       "    </tr>\n",
       "    <tr>\n",
       "      <th>2</th>\n",
       "      <td>2015-09-04</td>\n",
       "      <td>Credit card</td>\n",
       "      <td>NaN</td>\n",
       "      <td>Credit line increase/decrease</td>\n",
       "      <td>NaN</td>\n",
       "      <td>I WANT TO REQUEST A CREDIT LINE INCREASE OF XX...</td>\n",
       "      <td>NaN</td>\n",
       "      <td>Capital One</td>\n",
       "      <td>NC</td>\n",
       "      <td>271XX</td>\n",
       "      <td>NaN</td>\n",
       "      <td>Consent provided</td>\n",
       "      <td>Web</td>\n",
       "      <td>2015-09-04</td>\n",
       "      <td>Closed with explanation</td>\n",
       "      <td>Yes</td>\n",
       "      <td>1552090</td>\n",
       "    </tr>\n",
       "    <tr>\n",
       "      <th>3</th>\n",
       "      <td>2016-05-17</td>\n",
       "      <td>Consumer Loan</td>\n",
       "      <td>Installment loan</td>\n",
       "      <td>Problems when you are unable to pay</td>\n",
       "      <td>NaN</td>\n",
       "      <td>I have asked One Main Financial not to call my...</td>\n",
       "      <td>NaN</td>\n",
       "      <td>OneMain Financial Holdings, LLC</td>\n",
       "      <td>MO</td>\n",
       "      <td>634XX</td>\n",
       "      <td>NaN</td>\n",
       "      <td>Consent provided</td>\n",
       "      <td>Web</td>\n",
       "      <td>2016-05-20</td>\n",
       "      <td>Closed with non-monetary relief</td>\n",
       "      <td>Yes</td>\n",
       "      <td>1929306</td>\n",
       "    </tr>\n",
       "    <tr>\n",
       "      <th>4</th>\n",
       "      <td>2016-07-07</td>\n",
       "      <td>Debt collection</td>\n",
       "      <td>Other (i.e. phone, health club, etc.)</td>\n",
       "      <td>Improper contact or sharing of info</td>\n",
       "      <td>Contacted employer after asked not to</td>\n",
       "      <td>I have received several calls from a XXXX XXXX...</td>\n",
       "      <td>Company has responded to the consumer and the ...</td>\n",
       "      <td>GMA Investments, LLC</td>\n",
       "      <td>SC</td>\n",
       "      <td>296XX</td>\n",
       "      <td>NaN</td>\n",
       "      <td>Consent provided</td>\n",
       "      <td>Web</td>\n",
       "      <td>2016-07-07</td>\n",
       "      <td>Closed with explanation</td>\n",
       "      <td>Yes</td>\n",
       "      <td>2001667</td>\n",
       "    </tr>\n",
       "  </tbody>\n",
       "</table>\n",
       "</div>"
      ],
      "text/plain": [
       "  Date received          Product                            Sub-product  \\\n",
       "0    2015-01-17      Credit card                                    NaN   \n",
       "1    2016-06-22    Consumer Loan                             Title loan   \n",
       "2    2015-09-04      Credit card                                    NaN   \n",
       "3    2016-05-17    Consumer Loan                       Installment loan   \n",
       "4    2016-07-07  Debt collection  Other (i.e. phone, health club, etc.)   \n",
       "\n",
       "                                   Issue  \\\n",
       "0  Customer service / Customer relations   \n",
       "1           Payment to acct not credited   \n",
       "2          Credit line increase/decrease   \n",
       "3    Problems when you are unable to pay   \n",
       "4    Improper contact or sharing of info   \n",
       "\n",
       "                               Sub-issue  \\\n",
       "0                                    NaN   \n",
       "1                                    NaN   \n",
       "2                                    NaN   \n",
       "3                                    NaN   \n",
       "4  Contacted employer after asked not to   \n",
       "\n",
       "                        Consumer complaint narrative  \\\n",
       "0                                                NaN   \n",
       "1                                                NaN   \n",
       "2  I WANT TO REQUEST A CREDIT LINE INCREASE OF XX...   \n",
       "3  I have asked One Main Financial not to call my...   \n",
       "4  I have received several calls from a XXXX XXXX...   \n",
       "\n",
       "                             Company public response  \\\n",
       "0                                                NaN   \n",
       "1  Company believes it acted appropriately as aut...   \n",
       "2                                                NaN   \n",
       "3                                                NaN   \n",
       "4  Company has responded to the consumer and the ...   \n",
       "\n",
       "                            Company State ZIP code           Tags  \\\n",
       "0                          Citibank    TX    75241            NaN   \n",
       "1  Larsen MacColl Partners II, L.P.    TX    76548  Servicemember   \n",
       "2                       Capital One    NC    271XX            NaN   \n",
       "3   OneMain Financial Holdings, LLC    MO    634XX            NaN   \n",
       "4              GMA Investments, LLC    SC    296XX            NaN   \n",
       "\n",
       "  Consumer consent provided? Submitted via Date sent to company  \\\n",
       "0                        NaN           Web           2015-01-17   \n",
       "1                        NaN         Phone           2016-06-22   \n",
       "2           Consent provided           Web           2015-09-04   \n",
       "3           Consent provided           Web           2016-05-20   \n",
       "4           Consent provided           Web           2016-07-07   \n",
       "\n",
       "      Company response to consumer Timely response?  Complaint ID  \n",
       "0      Closed with monetary relief              Yes       1198133  \n",
       "1          Closed with explanation              Yes       1979989  \n",
       "2          Closed with explanation              Yes       1552090  \n",
       "3  Closed with non-monetary relief              Yes       1929306  \n",
       "4          Closed with explanation              Yes       2001667  "
      ]
     },
     "execution_count": 5,
     "metadata": {},
     "output_type": "execute_result"
    }
   ],
   "source": [
    "df_test.head()"
   ]
  },
  {
   "cell_type": "markdown",
   "metadata": {
    "id": "KzRBJoR7pop-"
   },
   "source": [
    "**Note: Please note that do all given tasks for test and train both datasets.**"
   ]
  },
  {
   "cell_type": "markdown",
   "metadata": {
    "id": "pbq7pvmGpop_"
   },
   "source": [
    "## Print shape of train and test datasets "
   ]
  },
  {
   "cell_type": "code",
   "execution_count": 6,
   "metadata": {
    "id": "eFPXZRfMpoqA"
   },
   "outputs": [
    {
     "name": "stdout",
     "output_type": "stream",
     "text": [
      "(358810, 18)\n",
      "(119606, 17)\n"
     ]
    }
   ],
   "source": [
    "print(df_train.shape)\n",
    "print(df_test.shape)"
   ]
  },
  {
   "cell_type": "markdown",
   "metadata": {
    "id": "7oPnYhOapoqA"
   },
   "source": [
    "## Print columns of train and test datasets"
   ]
  },
  {
   "cell_type": "code",
   "execution_count": 7,
   "metadata": {
    "id": "iPzUL5fUpoqB"
   },
   "outputs": [
    {
     "name": "stdout",
     "output_type": "stream",
     "text": [
      "Index(['Date received', 'Product', 'Sub-product', 'Issue', 'Sub-issue',\n",
      "       'Consumer complaint narrative', 'Company public response', 'Company',\n",
      "       'State', 'ZIP code', 'Tags', 'Consumer consent provided?',\n",
      "       'Submitted via', 'Date sent to company', 'Company response to consumer',\n",
      "       'Timely response?', 'Consumer disputed?', 'Complaint ID'],\n",
      "      dtype='object')\n",
      "Index(['Date received', 'Product', 'Sub-product', 'Issue', 'Sub-issue',\n",
      "       'Consumer complaint narrative', 'Company public response', 'Company',\n",
      "       'State', 'ZIP code', 'Tags', 'Consumer consent provided?',\n",
      "       'Submitted via', 'Date sent to company', 'Company response to consumer',\n",
      "       'Timely response?', 'Complaint ID'],\n",
      "      dtype='object')\n"
     ]
    }
   ],
   "source": [
    "print(df_train.columns)\n",
    "print(df_test.columns)"
   ]
  },
  {
   "cell_type": "markdown",
   "metadata": {
    "id": "0HiyNNaKpoqC"
   },
   "source": [
    "## Check data type for both datasets"
   ]
  },
  {
   "cell_type": "code",
   "execution_count": 8,
   "metadata": {},
   "outputs": [
    {
     "data": {
      "text/html": [
       "<div>\n",
       "<style scoped>\n",
       "    .dataframe tbody tr th:only-of-type {\n",
       "        vertical-align: middle;\n",
       "    }\n",
       "\n",
       "    .dataframe tbody tr th {\n",
       "        vertical-align: top;\n",
       "    }\n",
       "\n",
       "    .dataframe thead th {\n",
       "        text-align: right;\n",
       "    }\n",
       "</style>\n",
       "<table border=\"1\" class=\"dataframe\">\n",
       "  <thead>\n",
       "    <tr style=\"text-align: right;\">\n",
       "      <th></th>\n",
       "      <th>Train</th>\n",
       "      <th>Test</th>\n",
       "    </tr>\n",
       "  </thead>\n",
       "  <tbody>\n",
       "    <tr>\n",
       "      <th>Date received</th>\n",
       "      <td>object</td>\n",
       "      <td>object</td>\n",
       "    </tr>\n",
       "    <tr>\n",
       "      <th>Product</th>\n",
       "      <td>object</td>\n",
       "      <td>object</td>\n",
       "    </tr>\n",
       "    <tr>\n",
       "      <th>Sub-product</th>\n",
       "      <td>object</td>\n",
       "      <td>object</td>\n",
       "    </tr>\n",
       "    <tr>\n",
       "      <th>Issue</th>\n",
       "      <td>object</td>\n",
       "      <td>object</td>\n",
       "    </tr>\n",
       "    <tr>\n",
       "      <th>Sub-issue</th>\n",
       "      <td>object</td>\n",
       "      <td>object</td>\n",
       "    </tr>\n",
       "    <tr>\n",
       "      <th>Consumer complaint narrative</th>\n",
       "      <td>object</td>\n",
       "      <td>object</td>\n",
       "    </tr>\n",
       "    <tr>\n",
       "      <th>Company public response</th>\n",
       "      <td>object</td>\n",
       "      <td>object</td>\n",
       "    </tr>\n",
       "    <tr>\n",
       "      <th>Company</th>\n",
       "      <td>object</td>\n",
       "      <td>object</td>\n",
       "    </tr>\n",
       "    <tr>\n",
       "      <th>State</th>\n",
       "      <td>object</td>\n",
       "      <td>object</td>\n",
       "    </tr>\n",
       "    <tr>\n",
       "      <th>ZIP code</th>\n",
       "      <td>object</td>\n",
       "      <td>object</td>\n",
       "    </tr>\n",
       "    <tr>\n",
       "      <th>Tags</th>\n",
       "      <td>object</td>\n",
       "      <td>object</td>\n",
       "    </tr>\n",
       "    <tr>\n",
       "      <th>Consumer consent provided?</th>\n",
       "      <td>object</td>\n",
       "      <td>object</td>\n",
       "    </tr>\n",
       "    <tr>\n",
       "      <th>Submitted via</th>\n",
       "      <td>object</td>\n",
       "      <td>object</td>\n",
       "    </tr>\n",
       "    <tr>\n",
       "      <th>Date sent to company</th>\n",
       "      <td>object</td>\n",
       "      <td>object</td>\n",
       "    </tr>\n",
       "    <tr>\n",
       "      <th>Company response to consumer</th>\n",
       "      <td>object</td>\n",
       "      <td>object</td>\n",
       "    </tr>\n",
       "    <tr>\n",
       "      <th>Timely response?</th>\n",
       "      <td>object</td>\n",
       "      <td>object</td>\n",
       "    </tr>\n",
       "    <tr>\n",
       "      <th>Consumer disputed?</th>\n",
       "      <td>object</td>\n",
       "      <td>NaN</td>\n",
       "    </tr>\n",
       "    <tr>\n",
       "      <th>Complaint ID</th>\n",
       "      <td>int64</td>\n",
       "      <td>int64</td>\n",
       "    </tr>\n",
       "  </tbody>\n",
       "</table>\n",
       "</div>"
      ],
      "text/plain": [
       "                               Train    Test\n",
       "Date received                 object  object\n",
       "Product                       object  object\n",
       "Sub-product                   object  object\n",
       "Issue                         object  object\n",
       "Sub-issue                     object  object\n",
       "Consumer complaint narrative  object  object\n",
       "Company public response       object  object\n",
       "Company                       object  object\n",
       "State                         object  object\n",
       "ZIP code                      object  object\n",
       "Tags                          object  object\n",
       "Consumer consent provided?    object  object\n",
       "Submitted via                 object  object\n",
       "Date sent to company          object  object\n",
       "Company response to consumer  object  object\n",
       "Timely response?              object  object\n",
       "Consumer disputed?            object     NaN\n",
       "Complaint ID                   int64   int64"
      ]
     },
     "execution_count": 8,
     "metadata": {},
     "output_type": "execute_result"
    }
   ],
   "source": [
    "datatypes_df_train = pd.DataFrame(df_train.dtypes, columns=['Train'])\n",
    "datatypes_df_test = pd.DataFrame(df_test.dtypes, columns=['Test'])\n",
    "datatypes_df = pd.concat([datatypes_df_train, datatypes_df_test], axis=1)\n",
    "datatypes_df"
   ]
  },
  {
   "cell_type": "markdown",
   "metadata": {
    "id": "bLuxvPTupoqD"
   },
   "source": [
    "## Print missing values in percentage"
   ]
  },
  {
   "cell_type": "code",
   "execution_count": 9,
   "metadata": {},
   "outputs": [
    {
     "data": {
      "text/html": [
       "<div>\n",
       "<style scoped>\n",
       "    .dataframe tbody tr th:only-of-type {\n",
       "        vertical-align: middle;\n",
       "    }\n",
       "\n",
       "    .dataframe tbody tr th {\n",
       "        vertical-align: top;\n",
       "    }\n",
       "\n",
       "    .dataframe thead th {\n",
       "        text-align: right;\n",
       "    }\n",
       "</style>\n",
       "<table border=\"1\" class=\"dataframe\">\n",
       "  <thead>\n",
       "    <tr style=\"text-align: right;\">\n",
       "      <th></th>\n",
       "      <th>Train</th>\n",
       "      <th>Test</th>\n",
       "    </tr>\n",
       "  </thead>\n",
       "  <tbody>\n",
       "    <tr>\n",
       "      <th>Date received</th>\n",
       "      <td>0.000000</td>\n",
       "      <td>0.000000</td>\n",
       "    </tr>\n",
       "    <tr>\n",
       "      <th>Product</th>\n",
       "      <td>0.000000</td>\n",
       "      <td>0.000000</td>\n",
       "    </tr>\n",
       "    <tr>\n",
       "      <th>Sub-product</th>\n",
       "      <td>28.925058</td>\n",
       "      <td>28.997709</td>\n",
       "    </tr>\n",
       "    <tr>\n",
       "      <th>Issue</th>\n",
       "      <td>0.000000</td>\n",
       "      <td>0.000000</td>\n",
       "    </tr>\n",
       "    <tr>\n",
       "      <th>Sub-issue</th>\n",
       "      <td>61.139322</td>\n",
       "      <td>61.242747</td>\n",
       "    </tr>\n",
       "    <tr>\n",
       "      <th>Consumer complaint narrative</th>\n",
       "      <td>84.342688</td>\n",
       "      <td>84.186412</td>\n",
       "    </tr>\n",
       "    <tr>\n",
       "      <th>Company public response</th>\n",
       "      <td>81.067696</td>\n",
       "      <td>81.221678</td>\n",
       "    </tr>\n",
       "    <tr>\n",
       "      <th>Company</th>\n",
       "      <td>0.000000</td>\n",
       "      <td>0.000000</td>\n",
       "    </tr>\n",
       "    <tr>\n",
       "      <th>State</th>\n",
       "      <td>0.809063</td>\n",
       "      <td>0.782569</td>\n",
       "    </tr>\n",
       "    <tr>\n",
       "      <th>ZIP code</th>\n",
       "      <td>0.811293</td>\n",
       "      <td>0.783406</td>\n",
       "    </tr>\n",
       "    <tr>\n",
       "      <th>Tags</th>\n",
       "      <td>86.002062</td>\n",
       "      <td>85.805896</td>\n",
       "    </tr>\n",
       "    <tr>\n",
       "      <th>Consumer consent provided?</th>\n",
       "      <td>71.689752</td>\n",
       "      <td>71.651088</td>\n",
       "    </tr>\n",
       "    <tr>\n",
       "      <th>Submitted via</th>\n",
       "      <td>0.000000</td>\n",
       "      <td>0.000000</td>\n",
       "    </tr>\n",
       "    <tr>\n",
       "      <th>Date sent to company</th>\n",
       "      <td>0.000000</td>\n",
       "      <td>0.000000</td>\n",
       "    </tr>\n",
       "    <tr>\n",
       "      <th>Company response to consumer</th>\n",
       "      <td>0.000000</td>\n",
       "      <td>0.000000</td>\n",
       "    </tr>\n",
       "    <tr>\n",
       "      <th>Timely response?</th>\n",
       "      <td>0.000000</td>\n",
       "      <td>0.000000</td>\n",
       "    </tr>\n",
       "    <tr>\n",
       "      <th>Consumer disputed?</th>\n",
       "      <td>0.000000</td>\n",
       "      <td>NaN</td>\n",
       "    </tr>\n",
       "    <tr>\n",
       "      <th>Complaint ID</th>\n",
       "      <td>0.000000</td>\n",
       "      <td>0.000000</td>\n",
       "    </tr>\n",
       "  </tbody>\n",
       "</table>\n",
       "</div>"
      ],
      "text/plain": [
       "                                  Train       Test\n",
       "Date received                  0.000000   0.000000\n",
       "Product                        0.000000   0.000000\n",
       "Sub-product                   28.925058  28.997709\n",
       "Issue                          0.000000   0.000000\n",
       "Sub-issue                     61.139322  61.242747\n",
       "Consumer complaint narrative  84.342688  84.186412\n",
       "Company public response       81.067696  81.221678\n",
       "Company                        0.000000   0.000000\n",
       "State                          0.809063   0.782569\n",
       "ZIP code                       0.811293   0.783406\n",
       "Tags                          86.002062  85.805896\n",
       "Consumer consent provided?    71.689752  71.651088\n",
       "Submitted via                  0.000000   0.000000\n",
       "Date sent to company           0.000000   0.000000\n",
       "Company response to consumer   0.000000   0.000000\n",
       "Timely response?               0.000000   0.000000\n",
       "Consumer disputed?             0.000000        NaN\n",
       "Complaint ID                   0.000000   0.000000"
      ]
     },
     "execution_count": 9,
     "metadata": {},
     "output_type": "execute_result"
    }
   ],
   "source": [
    "missing_train = pd.DataFrame((df_train.isna().sum()/len(df_train))*100, columns=['Train'])\n",
    "#missing_train\n",
    "missing_test = pd.DataFrame((df_test.isna().sum()/len(df_test))*100, columns=['Test'])\n",
    "#missing_test\n",
    "missing_values_df = pd.concat([missing_train, missing_test], axis=1)\n",
    "missing_values_df"
   ]
  },
  {
   "cell_type": "markdown",
   "metadata": {
    "id": "z9mdQc6npoqE"
   },
   "source": [
    "## Drop columns where more than 25% of the data are missing."
   ]
  },
  {
   "cell_type": "code",
   "execution_count": 10,
   "metadata": {},
   "outputs": [],
   "source": [
    "# Dropping 25% of missing value data straight from the datasets:\n",
    "df_train = df_train.dropna(thresh=len(df_train)*0.75, axis=1)\n",
    "df_test = df_test.dropna(thresh=len(df_test)*0.75, axis=1)"
   ]
  },
  {
   "cell_type": "code",
   "execution_count": 11,
   "metadata": {
    "id": "YJhBaNOqpoqG"
   },
   "outputs": [
    {
     "data": {
      "text/html": [
       "<div>\n",
       "<style scoped>\n",
       "    .dataframe tbody tr th:only-of-type {\n",
       "        vertical-align: middle;\n",
       "    }\n",
       "\n",
       "    .dataframe tbody tr th {\n",
       "        vertical-align: top;\n",
       "    }\n",
       "\n",
       "    .dataframe thead th {\n",
       "        text-align: right;\n",
       "    }\n",
       "</style>\n",
       "<table border=\"1\" class=\"dataframe\">\n",
       "  <thead>\n",
       "    <tr style=\"text-align: right;\">\n",
       "      <th></th>\n",
       "      <th>Train</th>\n",
       "      <th>Test</th>\n",
       "    </tr>\n",
       "  </thead>\n",
       "  <tbody>\n",
       "    <tr>\n",
       "      <th>Date received</th>\n",
       "      <td>0.000000</td>\n",
       "      <td>0.000000</td>\n",
       "    </tr>\n",
       "    <tr>\n",
       "      <th>Product</th>\n",
       "      <td>0.000000</td>\n",
       "      <td>0.000000</td>\n",
       "    </tr>\n",
       "    <tr>\n",
       "      <th>Issue</th>\n",
       "      <td>0.000000</td>\n",
       "      <td>0.000000</td>\n",
       "    </tr>\n",
       "    <tr>\n",
       "      <th>Company</th>\n",
       "      <td>0.000000</td>\n",
       "      <td>0.000000</td>\n",
       "    </tr>\n",
       "    <tr>\n",
       "      <th>State</th>\n",
       "      <td>0.809063</td>\n",
       "      <td>0.782569</td>\n",
       "    </tr>\n",
       "    <tr>\n",
       "      <th>ZIP code</th>\n",
       "      <td>0.811293</td>\n",
       "      <td>0.783406</td>\n",
       "    </tr>\n",
       "    <tr>\n",
       "      <th>Submitted via</th>\n",
       "      <td>0.000000</td>\n",
       "      <td>0.000000</td>\n",
       "    </tr>\n",
       "    <tr>\n",
       "      <th>Date sent to company</th>\n",
       "      <td>0.000000</td>\n",
       "      <td>0.000000</td>\n",
       "    </tr>\n",
       "    <tr>\n",
       "      <th>Company response to consumer</th>\n",
       "      <td>0.000000</td>\n",
       "      <td>0.000000</td>\n",
       "    </tr>\n",
       "    <tr>\n",
       "      <th>Timely response?</th>\n",
       "      <td>0.000000</td>\n",
       "      <td>0.000000</td>\n",
       "    </tr>\n",
       "    <tr>\n",
       "      <th>Consumer disputed?</th>\n",
       "      <td>0.000000</td>\n",
       "      <td>NaN</td>\n",
       "    </tr>\n",
       "    <tr>\n",
       "      <th>Complaint ID</th>\n",
       "      <td>0.000000</td>\n",
       "      <td>0.000000</td>\n",
       "    </tr>\n",
       "  </tbody>\n",
       "</table>\n",
       "</div>"
      ],
      "text/plain": [
       "                                 Train      Test\n",
       "Date received                 0.000000  0.000000\n",
       "Product                       0.000000  0.000000\n",
       "Issue                         0.000000  0.000000\n",
       "Company                       0.000000  0.000000\n",
       "State                         0.809063  0.782569\n",
       "ZIP code                      0.811293  0.783406\n",
       "Submitted via                 0.000000  0.000000\n",
       "Date sent to company          0.000000  0.000000\n",
       "Company response to consumer  0.000000  0.000000\n",
       "Timely response?              0.000000  0.000000\n",
       "Consumer disputed?            0.000000       NaN\n",
       "Complaint ID                  0.000000  0.000000"
      ]
     },
     "execution_count": 11,
     "metadata": {},
     "output_type": "execute_result"
    }
   ],
   "source": [
    "nanfree_df_train = pd.DataFrame((df_train.isna().sum()/len(df_train))*100, columns=['Train'])\n",
    "#nanfree_df_train\n",
    "nanfree_df_test = pd.DataFrame((df_test.isna().sum()/len(df_test))*100, columns=['Test'])\n",
    "#nanfree_df_test\n",
    "nanfree_df = pd.concat([nanfree_df_train, nanfree_df_test], axis=1)\n",
    "nanfree_df"
   ]
  },
  {
   "cell_type": "markdown",
   "metadata": {},
   "source": [
    "### Now, we can observe that there are no more than 25% missing values in our datasets."
   ]
  },
  {
   "cell_type": "markdown",
   "metadata": {
    "id": "PkddP08zpoqI"
   },
   "source": [
    "## Extract Date, Month, and Year from the \"Date Received\" Column and create new fields for year, month, and day.\n",
    "\n",
    "like, df_train['Year_Received'] = df_train['Date received']........(logic)"
   ]
  },
  {
   "cell_type": "code",
   "execution_count": 12,
   "metadata": {
    "id": "B-f5_sc8poqM"
   },
   "outputs": [
    {
     "data": {
      "text/html": [
       "<div>\n",
       "<style scoped>\n",
       "    .dataframe tbody tr th:only-of-type {\n",
       "        vertical-align: middle;\n",
       "    }\n",
       "\n",
       "    .dataframe tbody tr th {\n",
       "        vertical-align: top;\n",
       "    }\n",
       "\n",
       "    .dataframe thead th {\n",
       "        text-align: right;\n",
       "    }\n",
       "</style>\n",
       "<table border=\"1\" class=\"dataframe\">\n",
       "  <thead>\n",
       "    <tr style=\"text-align: right;\">\n",
       "      <th></th>\n",
       "      <th>Date received</th>\n",
       "      <th>Product</th>\n",
       "      <th>Issue</th>\n",
       "      <th>Company</th>\n",
       "      <th>State</th>\n",
       "      <th>ZIP code</th>\n",
       "      <th>Submitted via</th>\n",
       "      <th>Date sent to company</th>\n",
       "      <th>Company response to consumer</th>\n",
       "      <th>Timely response?</th>\n",
       "      <th>Consumer disputed?</th>\n",
       "      <th>Complaint ID</th>\n",
       "      <th>Year Received</th>\n",
       "      <th>Month Received</th>\n",
       "      <th>Day Received</th>\n",
       "    </tr>\n",
       "  </thead>\n",
       "  <tbody>\n",
       "    <tr>\n",
       "      <th>0</th>\n",
       "      <td>2015-10-14</td>\n",
       "      <td>Credit reporting</td>\n",
       "      <td>Incorrect information on credit report</td>\n",
       "      <td>Equifax</td>\n",
       "      <td>GA</td>\n",
       "      <td>30134</td>\n",
       "      <td>Web</td>\n",
       "      <td>2015-10-14</td>\n",
       "      <td>Closed with explanation</td>\n",
       "      <td>Yes</td>\n",
       "      <td>No</td>\n",
       "      <td>1605653</td>\n",
       "      <td>2015</td>\n",
       "      <td>10</td>\n",
       "      <td>14</td>\n",
       "    </tr>\n",
       "    <tr>\n",
       "      <th>1</th>\n",
       "      <td>2015-04-26</td>\n",
       "      <td>Bank account or service</td>\n",
       "      <td>Deposits and withdrawals</td>\n",
       "      <td>Wells Fargo &amp; Company</td>\n",
       "      <td>GA</td>\n",
       "      <td>319XX</td>\n",
       "      <td>Web</td>\n",
       "      <td>2015-04-26</td>\n",
       "      <td>Closed with explanation</td>\n",
       "      <td>Yes</td>\n",
       "      <td>Yes</td>\n",
       "      <td>1347613</td>\n",
       "      <td>2015</td>\n",
       "      <td>4</td>\n",
       "      <td>26</td>\n",
       "    </tr>\n",
       "  </tbody>\n",
       "</table>\n",
       "</div>"
      ],
      "text/plain": [
       "  Date received                  Product  \\\n",
       "0    2015-10-14         Credit reporting   \n",
       "1    2015-04-26  Bank account or service   \n",
       "\n",
       "                                    Issue                Company State  \\\n",
       "0  Incorrect information on credit report                Equifax    GA   \n",
       "1                Deposits and withdrawals  Wells Fargo & Company    GA   \n",
       "\n",
       "  ZIP code Submitted via Date sent to company Company response to consumer  \\\n",
       "0    30134           Web           2015-10-14      Closed with explanation   \n",
       "1    319XX           Web           2015-04-26      Closed with explanation   \n",
       "\n",
       "  Timely response? Consumer disputed?  Complaint ID  Year Received  \\\n",
       "0              Yes                 No       1605653           2015   \n",
       "1              Yes                Yes       1347613           2015   \n",
       "\n",
       "   Month Received  Day Received  \n",
       "0              10            14  \n",
       "1               4            26  "
      ]
     },
     "execution_count": 12,
     "metadata": {},
     "output_type": "execute_result"
    }
   ],
   "source": [
    "df_train['Year Received'] = pd.to_datetime(df_train['Date received']).dt.year\n",
    "df_train['Month Received'] = pd.to_datetime(df_train['Date received']).dt.month\n",
    "df_train['Day Received'] = pd.to_datetime(df_train['Date received']).dt.day\n",
    "df_train.head(2)"
   ]
  },
  {
   "cell_type": "code",
   "execution_count": 13,
   "metadata": {},
   "outputs": [
    {
     "data": {
      "text/html": [
       "<div>\n",
       "<style scoped>\n",
       "    .dataframe tbody tr th:only-of-type {\n",
       "        vertical-align: middle;\n",
       "    }\n",
       "\n",
       "    .dataframe tbody tr th {\n",
       "        vertical-align: top;\n",
       "    }\n",
       "\n",
       "    .dataframe thead th {\n",
       "        text-align: right;\n",
       "    }\n",
       "</style>\n",
       "<table border=\"1\" class=\"dataframe\">\n",
       "  <thead>\n",
       "    <tr style=\"text-align: right;\">\n",
       "      <th></th>\n",
       "      <th>Date received</th>\n",
       "      <th>Product</th>\n",
       "      <th>Issue</th>\n",
       "      <th>Company</th>\n",
       "      <th>State</th>\n",
       "      <th>ZIP code</th>\n",
       "      <th>Submitted via</th>\n",
       "      <th>Date sent to company</th>\n",
       "      <th>Company response to consumer</th>\n",
       "      <th>Timely response?</th>\n",
       "      <th>Complaint ID</th>\n",
       "      <th>Year Received</th>\n",
       "      <th>Month Received</th>\n",
       "      <th>Day Received</th>\n",
       "    </tr>\n",
       "  </thead>\n",
       "  <tbody>\n",
       "    <tr>\n",
       "      <th>0</th>\n",
       "      <td>2015-01-17</td>\n",
       "      <td>Credit card</td>\n",
       "      <td>Customer service / Customer relations</td>\n",
       "      <td>Citibank</td>\n",
       "      <td>TX</td>\n",
       "      <td>75241</td>\n",
       "      <td>Web</td>\n",
       "      <td>2015-01-17</td>\n",
       "      <td>Closed with monetary relief</td>\n",
       "      <td>Yes</td>\n",
       "      <td>1198133</td>\n",
       "      <td>2015</td>\n",
       "      <td>1</td>\n",
       "      <td>17</td>\n",
       "    </tr>\n",
       "    <tr>\n",
       "      <th>1</th>\n",
       "      <td>2016-06-22</td>\n",
       "      <td>Consumer Loan</td>\n",
       "      <td>Payment to acct not credited</td>\n",
       "      <td>Larsen MacColl Partners II, L.P.</td>\n",
       "      <td>TX</td>\n",
       "      <td>76548</td>\n",
       "      <td>Phone</td>\n",
       "      <td>2016-06-22</td>\n",
       "      <td>Closed with explanation</td>\n",
       "      <td>Yes</td>\n",
       "      <td>1979989</td>\n",
       "      <td>2016</td>\n",
       "      <td>6</td>\n",
       "      <td>22</td>\n",
       "    </tr>\n",
       "  </tbody>\n",
       "</table>\n",
       "</div>"
      ],
      "text/plain": [
       "  Date received        Product                                  Issue  \\\n",
       "0    2015-01-17    Credit card  Customer service / Customer relations   \n",
       "1    2016-06-22  Consumer Loan           Payment to acct not credited   \n",
       "\n",
       "                            Company State ZIP code Submitted via  \\\n",
       "0                          Citibank    TX    75241           Web   \n",
       "1  Larsen MacColl Partners II, L.P.    TX    76548         Phone   \n",
       "\n",
       "  Date sent to company Company response to consumer Timely response?  \\\n",
       "0           2015-01-17  Closed with monetary relief              Yes   \n",
       "1           2016-06-22      Closed with explanation              Yes   \n",
       "\n",
       "   Complaint ID  Year Received  Month Received  Day Received  \n",
       "0       1198133           2015               1            17  \n",
       "1       1979989           2016               6            22  "
      ]
     },
     "execution_count": 13,
     "metadata": {},
     "output_type": "execute_result"
    }
   ],
   "source": [
    "df_test['Year Received'] = pd.to_datetime(df_test['Date received']).dt.year\n",
    "df_test['Month Received'] = pd.to_datetime(df_test['Date received']).dt.month\n",
    "df_test['Day Received'] = pd.to_datetime(df_test['Date received']).dt.day\n",
    "df_test.head(2)"
   ]
  },
  {
   "cell_type": "markdown",
   "metadata": {
    "id": "bDzo8Q5HpoqN"
   },
   "source": [
    "## Convert dates from object type to datetime type"
   ]
  },
  {
   "cell_type": "code",
   "execution_count": 14,
   "metadata": {
    "id": "D-rUlAE3poqN"
   },
   "outputs": [],
   "source": [
    "#training set:\n",
    "df_train['Date received'] = pd.to_datetime(df_train['Date received'])\n",
    "df_train['Date sent to company'] = pd.to_datetime(df_train['Date sent to company'])\n",
    "#testing set:\n",
    "df_test['Date received'] = pd.to_datetime(df_test['Date received'])\n",
    "df_test['Date sent to company'] = pd.to_datetime(df_test['Date sent to company'])"
   ]
  },
  {
   "cell_type": "markdown",
   "metadata": {},
   "source": [
    "#print(df_train.info())\n",
    "#print(df_test.info())"
   ]
  },
  {
   "cell_type": "markdown",
   "metadata": {
    "id": "C7ZhXjgWpoqO"
   },
   "source": [
    "## Calculate the number of days the complaint was with the company\n",
    "\n",
    "create new field with help given logic<br>\n",
    "Like, Days held = Date sent to company - Date received"
   ]
  },
  {
   "cell_type": "code",
   "execution_count": 15,
   "metadata": {
    "id": "1tZ5kgp5poqO"
   },
   "outputs": [],
   "source": [
    "df_train['Days Held'] = df_train['Date sent to company'] - df_train['Date received']\n",
    "df_test['Days Held'] = df_test['Date sent to company'] - df_test['Date received']"
   ]
  },
  {
   "cell_type": "markdown",
   "metadata": {
    "id": "NU-KOCtopoqO"
   },
   "source": [
    "## Convert \"Days Held\" to Int(above column)"
   ]
  },
  {
   "cell_type": "code",
   "execution_count": 16,
   "metadata": {
    "id": "mYixr98bpoqP"
   },
   "outputs": [],
   "source": [
    "df_train['Days Held']= df_train['Days Held'].astype('timedelta64[D]').astype(int)\n",
    "df_test['Days Held']= df_test['Days Held'].astype('timedelta64[D]').astype(int)"
   ]
  },
  {
   "cell_type": "markdown",
   "metadata": {
    "id": "0HQaa_05poqP"
   },
   "source": [
    "##  Drop \"Date Received\",\"Date Sent to Company\",\"ZIP Code\", \"Complaint ID\""
   ]
  },
  {
   "cell_type": "code",
   "execution_count": 17,
   "metadata": {
    "id": "T9WmzyvmpoqQ"
   },
   "outputs": [],
   "source": [
    "df_train.drop([\"Date received\",\"Date sent to company\",\"ZIP code\", \"Complaint ID\"], axis=1, inplace=True)\n",
    "df_test.drop([\"Date received\",\"Date sent to company\",\"ZIP code\", \"Complaint ID\"], axis=1, inplace=True)"
   ]
  },
  {
   "cell_type": "code",
   "execution_count": 18,
   "metadata": {},
   "outputs": [
    {
     "data": {
      "text/plain": [
       "Index(['Product', 'Issue', 'Company', 'State', 'Submitted via',\n",
       "       'Company response to consumer', 'Timely response?',\n",
       "       'Consumer disputed?', 'Year Received', 'Month Received', 'Day Received',\n",
       "       'Days Held'],\n",
       "      dtype='object')"
      ]
     },
     "execution_count": 18,
     "metadata": {},
     "output_type": "execute_result"
    }
   ],
   "source": [
    "df_train.columns"
   ]
  },
  {
   "cell_type": "code",
   "execution_count": 19,
   "metadata": {},
   "outputs": [
    {
     "data": {
      "text/plain": [
       "Index(['Product', 'Issue', 'Company', 'State', 'Submitted via',\n",
       "       'Company response to consumer', 'Timely response?', 'Year Received',\n",
       "       'Month Received', 'Day Received', 'Days Held'],\n",
       "      dtype='object')"
      ]
     },
     "execution_count": 19,
     "metadata": {},
     "output_type": "execute_result"
    }
   ],
   "source": [
    "df_test.columns"
   ]
  },
  {
   "cell_type": "markdown",
   "metadata": {
    "id": "fXrMeXGGpoqQ"
   },
   "source": [
    "## Impute null values in \"State\" by Mode \n",
    "    (find mode and replace nan value)"
   ]
  },
  {
   "cell_type": "code",
   "execution_count": 20,
   "metadata": {
    "id": "2E50Tq6qpoqQ"
   },
   "outputs": [
    {
     "name": "stdout",
     "output_type": "stream",
     "text": [
      "0    CA\n",
      "Name: State, dtype: object\n",
      "0    CA\n",
      "Name: State, dtype: object\n"
     ]
    }
   ],
   "source": [
    "print(df_train['State'].mode())\n",
    "print(df_test['State'].mode())\n",
    "df_train['State'] = df_train['State'].replace(np.nan,'CA')\n",
    "df_test['State']  = df_test['State'].replace(np.nan,'CA')"
   ]
  },
  {
   "cell_type": "markdown",
   "metadata": {
    "id": "TDDfIGddpoqR"
   },
   "source": [
    "## Check Missing Values in the dataset"
   ]
  },
  {
   "cell_type": "code",
   "execution_count": 21,
   "metadata": {
    "id": "9lHuVu79poqR"
   },
   "outputs": [
    {
     "name": "stdout",
     "output_type": "stream",
     "text": [
      "Product                         0\n",
      "Issue                           0\n",
      "Company                         0\n",
      "State                           0\n",
      "Submitted via                   0\n",
      "Company response to consumer    0\n",
      "Timely response?                0\n",
      "Consumer disputed?              0\n",
      "Year Received                   0\n",
      "Month Received                  0\n",
      "Day Received                    0\n",
      "Days Held                       0\n",
      "dtype: int64\n"
     ]
    }
   ],
   "source": [
    "print(df_train.isna().sum())"
   ]
  },
  {
   "cell_type": "code",
   "execution_count": 22,
   "metadata": {},
   "outputs": [
    {
     "name": "stdout",
     "output_type": "stream",
     "text": [
      "Product                         0\n",
      "Issue                           0\n",
      "Company                         0\n",
      "State                           0\n",
      "Submitted via                   0\n",
      "Company response to consumer    0\n",
      "Timely response?                0\n",
      "Year Received                   0\n",
      "Month Received                  0\n",
      "Day Received                    0\n",
      "Days Held                       0\n",
      "dtype: int64\n"
     ]
    }
   ],
   "source": [
    "print(df_test.isna().sum())"
   ]
  },
  {
   "cell_type": "markdown",
   "metadata": {
    "id": "M0EPXTRWpoqR"
   },
   "source": [
    "## Categorize Days into Weeks with the help of 'Days Received'"
   ]
  },
  {
   "cell_type": "code",
   "execution_count": 23,
   "metadata": {
    "id": "zr7y3qkCpoqS"
   },
   "outputs": [],
   "source": [
    "week_train = []\n",
    "for i in df_train['Day Received']:\n",
    "    if i < 8:\n",
    "        week_train.append(1)\n",
    "    elif i >= 8 and i < 16:\n",
    "        week_train.append(2)\n",
    "    elif i >= 16 and i < 22:\n",
    "        week_train.append(3)\n",
    "    else:\n",
    "        week_train.append(4)\n",
    "df_train['Week Received'] = week_train\n",
    "\n",
    "week_test = []\n",
    "for i in df_test['Day Received']:\n",
    "    if i < 8:\n",
    "        week_test.append(1)\n",
    "    elif i >= 8 and i < 16:\n",
    "        week_test.append(2)\n",
    "    elif i >= 16 and i < 22:\n",
    "        week_test.append(3)\n",
    "    else:\n",
    "        week_test.append(4)\n",
    "df_test['Week Received'] = week_test"
   ]
  },
  {
   "cell_type": "markdown",
   "metadata": {
    "id": "FUZBAfyopoqS"
   },
   "source": [
    "## Drop \"Day_Received\" column"
   ]
  },
  {
   "cell_type": "code",
   "execution_count": 24,
   "metadata": {
    "id": "A5ka68OnpoqT"
   },
   "outputs": [],
   "source": [
    "df_train = df_train.drop('Day Received', axis=1)\n",
    "df_test = df_test.drop('Day Received', axis=1)"
   ]
  },
  {
   "cell_type": "markdown",
   "metadata": {
    "id": "tYdZ9SulpoqT"
   },
   "source": [
    "## Print head of train and test dataset and observe"
   ]
  },
  {
   "cell_type": "code",
   "execution_count": 25,
   "metadata": {
    "id": "Njal7vDbpoqT"
   },
   "outputs": [
    {
     "data": {
      "text/html": [
       "<div>\n",
       "<style scoped>\n",
       "    .dataframe tbody tr th:only-of-type {\n",
       "        vertical-align: middle;\n",
       "    }\n",
       "\n",
       "    .dataframe tbody tr th {\n",
       "        vertical-align: top;\n",
       "    }\n",
       "\n",
       "    .dataframe thead th {\n",
       "        text-align: right;\n",
       "    }\n",
       "</style>\n",
       "<table border=\"1\" class=\"dataframe\">\n",
       "  <thead>\n",
       "    <tr style=\"text-align: right;\">\n",
       "      <th></th>\n",
       "      <th>Product</th>\n",
       "      <th>Issue</th>\n",
       "      <th>Company</th>\n",
       "      <th>State</th>\n",
       "      <th>Submitted via</th>\n",
       "      <th>Company response to consumer</th>\n",
       "      <th>Timely response?</th>\n",
       "      <th>Consumer disputed?</th>\n",
       "      <th>Year Received</th>\n",
       "      <th>Month Received</th>\n",
       "      <th>Days Held</th>\n",
       "      <th>Week Received</th>\n",
       "    </tr>\n",
       "  </thead>\n",
       "  <tbody>\n",
       "    <tr>\n",
       "      <th>0</th>\n",
       "      <td>Credit reporting</td>\n",
       "      <td>Incorrect information on credit report</td>\n",
       "      <td>Equifax</td>\n",
       "      <td>GA</td>\n",
       "      <td>Web</td>\n",
       "      <td>Closed with explanation</td>\n",
       "      <td>Yes</td>\n",
       "      <td>No</td>\n",
       "      <td>2015</td>\n",
       "      <td>10</td>\n",
       "      <td>0</td>\n",
       "      <td>2</td>\n",
       "    </tr>\n",
       "    <tr>\n",
       "      <th>1</th>\n",
       "      <td>Bank account or service</td>\n",
       "      <td>Deposits and withdrawals</td>\n",
       "      <td>Wells Fargo &amp; Company</td>\n",
       "      <td>GA</td>\n",
       "      <td>Web</td>\n",
       "      <td>Closed with explanation</td>\n",
       "      <td>Yes</td>\n",
       "      <td>Yes</td>\n",
       "      <td>2015</td>\n",
       "      <td>4</td>\n",
       "      <td>0</td>\n",
       "      <td>4</td>\n",
       "    </tr>\n",
       "    <tr>\n",
       "      <th>2</th>\n",
       "      <td>Credit card</td>\n",
       "      <td>Other</td>\n",
       "      <td>Citibank</td>\n",
       "      <td>SC</td>\n",
       "      <td>Phone</td>\n",
       "      <td>Closed with non-monetary relief</td>\n",
       "      <td>Yes</td>\n",
       "      <td>No</td>\n",
       "      <td>2013</td>\n",
       "      <td>12</td>\n",
       "      <td>14</td>\n",
       "      <td>3</td>\n",
       "    </tr>\n",
       "    <tr>\n",
       "      <th>3</th>\n",
       "      <td>Debt collection</td>\n",
       "      <td>Disclosure verification of debt</td>\n",
       "      <td>FAIR COLLECTIONS &amp; OUTSOURCING, INC.</td>\n",
       "      <td>OH</td>\n",
       "      <td>Referral</td>\n",
       "      <td>Closed with explanation</td>\n",
       "      <td>Yes</td>\n",
       "      <td>No</td>\n",
       "      <td>2016</td>\n",
       "      <td>3</td>\n",
       "      <td>1</td>\n",
       "      <td>1</td>\n",
       "    </tr>\n",
       "    <tr>\n",
       "      <th>4</th>\n",
       "      <td>Debt collection</td>\n",
       "      <td>Disclosure verification of debt</td>\n",
       "      <td>HCFS Health Care Financial Services, Inc.</td>\n",
       "      <td>CA</td>\n",
       "      <td>Web</td>\n",
       "      <td>Closed with explanation</td>\n",
       "      <td>Yes</td>\n",
       "      <td>Yes</td>\n",
       "      <td>2015</td>\n",
       "      <td>1</td>\n",
       "      <td>0</td>\n",
       "      <td>4</td>\n",
       "    </tr>\n",
       "  </tbody>\n",
       "</table>\n",
       "</div>"
      ],
      "text/plain": [
       "                   Product                                   Issue  \\\n",
       "0         Credit reporting  Incorrect information on credit report   \n",
       "1  Bank account or service                Deposits and withdrawals   \n",
       "2              Credit card                                   Other   \n",
       "3          Debt collection         Disclosure verification of debt   \n",
       "4          Debt collection         Disclosure verification of debt   \n",
       "\n",
       "                                     Company State Submitted via  \\\n",
       "0                                    Equifax    GA           Web   \n",
       "1                      Wells Fargo & Company    GA           Web   \n",
       "2                                   Citibank    SC         Phone   \n",
       "3       FAIR COLLECTIONS & OUTSOURCING, INC.    OH      Referral   \n",
       "4  HCFS Health Care Financial Services, Inc.    CA           Web   \n",
       "\n",
       "      Company response to consumer Timely response? Consumer disputed?  \\\n",
       "0          Closed with explanation              Yes                 No   \n",
       "1          Closed with explanation              Yes                Yes   \n",
       "2  Closed with non-monetary relief              Yes                 No   \n",
       "3          Closed with explanation              Yes                 No   \n",
       "4          Closed with explanation              Yes                Yes   \n",
       "\n",
       "   Year Received  Month Received  Days Held  Week Received  \n",
       "0           2015              10          0              2  \n",
       "1           2015               4          0              4  \n",
       "2           2013              12         14              3  \n",
       "3           2016               3          1              1  \n",
       "4           2015               1          0              4  "
      ]
     },
     "execution_count": 25,
     "metadata": {},
     "output_type": "execute_result"
    }
   ],
   "source": [
    "# train dataset:\n",
    "df_train.head()"
   ]
  },
  {
   "cell_type": "code",
   "execution_count": 26,
   "metadata": {},
   "outputs": [
    {
     "data": {
      "text/html": [
       "<div>\n",
       "<style scoped>\n",
       "    .dataframe tbody tr th:only-of-type {\n",
       "        vertical-align: middle;\n",
       "    }\n",
       "\n",
       "    .dataframe tbody tr th {\n",
       "        vertical-align: top;\n",
       "    }\n",
       "\n",
       "    .dataframe thead th {\n",
       "        text-align: right;\n",
       "    }\n",
       "</style>\n",
       "<table border=\"1\" class=\"dataframe\">\n",
       "  <thead>\n",
       "    <tr style=\"text-align: right;\">\n",
       "      <th></th>\n",
       "      <th>Product</th>\n",
       "      <th>Issue</th>\n",
       "      <th>Company</th>\n",
       "      <th>State</th>\n",
       "      <th>Submitted via</th>\n",
       "      <th>Company response to consumer</th>\n",
       "      <th>Timely response?</th>\n",
       "      <th>Year Received</th>\n",
       "      <th>Month Received</th>\n",
       "      <th>Days Held</th>\n",
       "      <th>Week Received</th>\n",
       "    </tr>\n",
       "  </thead>\n",
       "  <tbody>\n",
       "    <tr>\n",
       "      <th>0</th>\n",
       "      <td>Credit card</td>\n",
       "      <td>Customer service / Customer relations</td>\n",
       "      <td>Citibank</td>\n",
       "      <td>TX</td>\n",
       "      <td>Web</td>\n",
       "      <td>Closed with monetary relief</td>\n",
       "      <td>Yes</td>\n",
       "      <td>2015</td>\n",
       "      <td>1</td>\n",
       "      <td>0</td>\n",
       "      <td>3</td>\n",
       "    </tr>\n",
       "    <tr>\n",
       "      <th>1</th>\n",
       "      <td>Consumer Loan</td>\n",
       "      <td>Payment to acct not credited</td>\n",
       "      <td>Larsen MacColl Partners II, L.P.</td>\n",
       "      <td>TX</td>\n",
       "      <td>Phone</td>\n",
       "      <td>Closed with explanation</td>\n",
       "      <td>Yes</td>\n",
       "      <td>2016</td>\n",
       "      <td>6</td>\n",
       "      <td>0</td>\n",
       "      <td>4</td>\n",
       "    </tr>\n",
       "    <tr>\n",
       "      <th>2</th>\n",
       "      <td>Credit card</td>\n",
       "      <td>Credit line increase/decrease</td>\n",
       "      <td>Capital One</td>\n",
       "      <td>NC</td>\n",
       "      <td>Web</td>\n",
       "      <td>Closed with explanation</td>\n",
       "      <td>Yes</td>\n",
       "      <td>2015</td>\n",
       "      <td>9</td>\n",
       "      <td>0</td>\n",
       "      <td>1</td>\n",
       "    </tr>\n",
       "    <tr>\n",
       "      <th>3</th>\n",
       "      <td>Consumer Loan</td>\n",
       "      <td>Problems when you are unable to pay</td>\n",
       "      <td>OneMain Financial Holdings, LLC</td>\n",
       "      <td>MO</td>\n",
       "      <td>Web</td>\n",
       "      <td>Closed with non-monetary relief</td>\n",
       "      <td>Yes</td>\n",
       "      <td>2016</td>\n",
       "      <td>5</td>\n",
       "      <td>3</td>\n",
       "      <td>3</td>\n",
       "    </tr>\n",
       "    <tr>\n",
       "      <th>4</th>\n",
       "      <td>Debt collection</td>\n",
       "      <td>Improper contact or sharing of info</td>\n",
       "      <td>GMA Investments, LLC</td>\n",
       "      <td>SC</td>\n",
       "      <td>Web</td>\n",
       "      <td>Closed with explanation</td>\n",
       "      <td>Yes</td>\n",
       "      <td>2016</td>\n",
       "      <td>7</td>\n",
       "      <td>0</td>\n",
       "      <td>1</td>\n",
       "    </tr>\n",
       "  </tbody>\n",
       "</table>\n",
       "</div>"
      ],
      "text/plain": [
       "           Product                                  Issue  \\\n",
       "0      Credit card  Customer service / Customer relations   \n",
       "1    Consumer Loan           Payment to acct not credited   \n",
       "2      Credit card          Credit line increase/decrease   \n",
       "3    Consumer Loan    Problems when you are unable to pay   \n",
       "4  Debt collection    Improper contact or sharing of info   \n",
       "\n",
       "                            Company State Submitted via  \\\n",
       "0                          Citibank    TX           Web   \n",
       "1  Larsen MacColl Partners II, L.P.    TX         Phone   \n",
       "2                       Capital One    NC           Web   \n",
       "3   OneMain Financial Holdings, LLC    MO           Web   \n",
       "4              GMA Investments, LLC    SC           Web   \n",
       "\n",
       "      Company response to consumer Timely response?  Year Received  \\\n",
       "0      Closed with monetary relief              Yes           2015   \n",
       "1          Closed with explanation              Yes           2016   \n",
       "2          Closed with explanation              Yes           2015   \n",
       "3  Closed with non-monetary relief              Yes           2016   \n",
       "4          Closed with explanation              Yes           2016   \n",
       "\n",
       "   Month Received  Days Held  Week Received  \n",
       "0               1          0              3  \n",
       "1               6          0              4  \n",
       "2               9          0              1  \n",
       "3               5          3              3  \n",
       "4               7          0              1  "
      ]
     },
     "execution_count": 26,
     "metadata": {},
     "output_type": "execute_result"
    }
   ],
   "source": [
    "#test dataset:\n",
    "df_test.head()"
   ]
  },
  {
   "cell_type": "markdown",
   "metadata": {
    "id": "A8tqx2qCpoqT"
   },
   "source": [
    "## Store data of the disputed consumer in the new data frame as \"disputed_cons\""
   ]
  },
  {
   "cell_type": "code",
   "execution_count": 27,
   "metadata": {
    "id": "LIsh5bhipoqU"
   },
   "outputs": [
    {
     "data": {
      "text/html": [
       "<div>\n",
       "<style scoped>\n",
       "    .dataframe tbody tr th:only-of-type {\n",
       "        vertical-align: middle;\n",
       "    }\n",
       "\n",
       "    .dataframe tbody tr th {\n",
       "        vertical-align: top;\n",
       "    }\n",
       "\n",
       "    .dataframe thead th {\n",
       "        text-align: right;\n",
       "    }\n",
       "</style>\n",
       "<table border=\"1\" class=\"dataframe\">\n",
       "  <thead>\n",
       "    <tr style=\"text-align: right;\">\n",
       "      <th></th>\n",
       "      <th>Product</th>\n",
       "      <th>Issue</th>\n",
       "      <th>Company</th>\n",
       "      <th>State</th>\n",
       "      <th>Submitted via</th>\n",
       "      <th>Company response to consumer</th>\n",
       "      <th>Timely response?</th>\n",
       "      <th>Consumer disputed?</th>\n",
       "      <th>Year Received</th>\n",
       "      <th>Month Received</th>\n",
       "      <th>Days Held</th>\n",
       "      <th>Week Received</th>\n",
       "    </tr>\n",
       "  </thead>\n",
       "  <tbody>\n",
       "    <tr>\n",
       "      <th>1</th>\n",
       "      <td>Bank account or service</td>\n",
       "      <td>Deposits and withdrawals</td>\n",
       "      <td>Wells Fargo &amp; Company</td>\n",
       "      <td>GA</td>\n",
       "      <td>Web</td>\n",
       "      <td>Closed with explanation</td>\n",
       "      <td>Yes</td>\n",
       "      <td>Yes</td>\n",
       "      <td>2015</td>\n",
       "      <td>4</td>\n",
       "      <td>0</td>\n",
       "      <td>4</td>\n",
       "    </tr>\n",
       "    <tr>\n",
       "      <th>4</th>\n",
       "      <td>Debt collection</td>\n",
       "      <td>Disclosure verification of debt</td>\n",
       "      <td>HCFS Health Care Financial Services, Inc.</td>\n",
       "      <td>CA</td>\n",
       "      <td>Web</td>\n",
       "      <td>Closed with explanation</td>\n",
       "      <td>Yes</td>\n",
       "      <td>Yes</td>\n",
       "      <td>2015</td>\n",
       "      <td>1</td>\n",
       "      <td>0</td>\n",
       "      <td>4</td>\n",
       "    </tr>\n",
       "  </tbody>\n",
       "</table>\n",
       "</div>"
      ],
      "text/plain": [
       "                   Product                            Issue  \\\n",
       "1  Bank account or service         Deposits and withdrawals   \n",
       "4          Debt collection  Disclosure verification of debt   \n",
       "\n",
       "                                     Company State Submitted via  \\\n",
       "1                      Wells Fargo & Company    GA           Web   \n",
       "4  HCFS Health Care Financial Services, Inc.    CA           Web   \n",
       "\n",
       "  Company response to consumer Timely response? Consumer disputed?  \\\n",
       "1      Closed with explanation              Yes                Yes   \n",
       "4      Closed with explanation              Yes                Yes   \n",
       "\n",
       "   Year Received  Month Received  Days Held  Week Received  \n",
       "1           2015               4          0              4  \n",
       "4           2015               1          0              4  "
      ]
     },
     "execution_count": 27,
     "metadata": {},
     "output_type": "execute_result"
    }
   ],
   "source": [
    "disputed_cons = df_train[df_train['Consumer disputed?']=='Yes']\n",
    "disputed_cons.head(2)"
   ]
  },
  {
   "cell_type": "markdown",
   "metadata": {
    "id": "mtGG1fslpoqU"
   },
   "source": [
    "## Plot bar graph for the total no of disputes with the help of seaborn"
   ]
  },
  {
   "cell_type": "code",
   "execution_count": 28,
   "metadata": {
    "id": "aawMOyG5poqW"
   },
   "outputs": [
    {
     "data": {
      "text/plain": [
       "Text(0.5, 1.0, 'Total Number of disputes')"
      ]
     },
     "execution_count": 28,
     "metadata": {},
     "output_type": "execute_result"
    },
    {
     "data": {
      "image/png": "[encoded data removed]",
      "text/plain": [
       "<Figure size 640x480 with 1 Axes>"
      ]
     },
     "metadata": {},
     "output_type": "display_data"
    }
   ],
   "source": [
    "sns.countplot(x='Consumer disputed?',data=df_train)\n",
    "plt.title('Total Number of disputes')"
   ]
  },
  {
   "cell_type": "markdown",
   "metadata": {},
   "source": [
    "###    We observed that only about 21% of Customers have disputed."
   ]
  },
  {
   "cell_type": "markdown",
   "metadata": {},
   "source": [
    "Here, is the exact total number of disputes in each group:\n",
    "df_train['Consumer disputed?'].value_counts()/len(df_train['Consumer disputed?'])*100"
   ]
  },
  {
   "cell_type": "markdown",
   "metadata": {
    "id": "NCZyWAkUpoqW"
   },
   "source": [
    "## Plot bar graph for the total no of disputes products-wise with help of seaborn"
   ]
  },
  {
   "cell_type": "code",
   "execution_count": 29,
   "metadata": {
    "id": "CRaMA8jVpoqX"
   },
   "outputs": [
    {
     "data": {
      "image/png": "[encoded data removed]",
      "text/plain": [
       "<Figure size 640x480 with 1 Axes>"
      ]
     },
     "metadata": {},
     "output_type": "display_data"
    }
   ],
   "source": [
    "sns.countplot(x='Product', hue='Consumer disputed?', data=df_train)\n",
    "plt.xticks(rotation=90)\n",
    "plt.show()"
   ]
  },
  {
   "cell_type": "markdown",
   "metadata": {
    "id": "L0U3hAu4poqY"
   },
   "source": [
    "## Plot bar graph for the total no of disputes with Top Issues by Highest Disputes , with help of seaborn"
   ]
  },
  {
   "cell_type": "code",
   "execution_count": 30,
   "metadata": {
    "id": "hx_k7HkYpoqY"
   },
   "outputs": [
    {
     "data": {
      "image/png": "[encoded data removed]",
      "text/plain": [
       "<Figure size 640x480 with 1 Axes>"
      ]
     },
     "metadata": {},
     "output_type": "display_data"
    }
   ],
   "source": [
    "Top_Issues_disputed = disputed_cons['Issue'].value_counts().sort_values(ascending=False).head(10)\n",
    "#Top_Issues_disputed\n",
    "sns.barplot(x = Top_Issues_disputed.index, y = Top_Issues_disputed.values)\n",
    "plt.xticks(rotation=90)\n",
    "plt.show()"
   ]
  },
  {
   "cell_type": "markdown",
   "metadata": {
    "id": "Lnfp_e9ZpoqY"
   },
   "source": [
    "## Plot bar graph for the total no of disputes by State with Maximum Disputes"
   ]
  },
  {
   "cell_type": "code",
   "execution_count": 31,
   "metadata": {
    "id": "9YieTWCtpoqZ"
   },
   "outputs": [
    {
     "data": {
      "image/png": "[encoded data removed]",
      "text/plain": [
       "<Figure size 2000x1000 with 1 Axes>"
      ]
     },
     "metadata": {},
     "output_type": "display_data"
    }
   ],
   "source": [
    "plt.figure(figsize=(20,10))\n",
    "sns.countplot(x=df_train['State'])\n",
    "plt.xlabel('State', fontsize=20)\n",
    "plt.ylabel('Count', fontsize=20)\n",
    "plt.show()"
   ]
  },
  {
   "cell_type": "markdown",
   "metadata": {},
   "source": [
    "    These are Top 10 observations:\n",
    "    CA is having 15% of disputes\n",
    "    CA and FL are having around 25% of disputes\n",
    "    CA, FL and TX are having around 32% disputes\n",
    "    CA, FL, TX and NY are having around 38% disputes\n",
    "    CA, FL, TX, NY and GA are having around 43% disputes\n",
    "    CA, FL, TX, NY, GA and NJ are having around 47% disputes\n",
    "    CA, FL, TX, NY, GA, NJ and PA are having around 50% disputes\n",
    "    CA, FL, TX, NY, GA, NJ, PA and IL are having around 54% disputes\n",
    "    CA, FL, TX, NY, GA, NJ, PA, IL and VA are having around 57% disputes\n",
    "    CA, FL, TX, NY, GA, NJ, PA, IL, VA and MD are having around 61% disputes and so on."
   ]
  },
  {
   "cell_type": "markdown",
   "metadata": {},
   "source": [
    "#percentage_dispute_statewise = df_train['State'].value_counts()/len(df_train['State'])*100\n",
    "#percentage_dispute_statewise.head(10)"
   ]
  },
  {
   "cell_type": "markdown",
   "metadata": {
    "id": "GzYlsiEFpoqZ"
   },
   "source": [
    "## Plot bar graph for the total no of disputes by Submitted Via diffrent source "
   ]
  },
  {
   "cell_type": "code",
   "execution_count": 32,
   "metadata": {
    "id": "ShPK2OoepoqZ"
   },
   "outputs": [
    {
     "data": {
      "image/png": "[encoded data removed]",
      "text/plain": [
       "<Figure size 640x480 with 1 Axes>"
      ]
     },
     "metadata": {},
     "output_type": "display_data"
    }
   ],
   "source": [
    "sns.countplot(x='Submitted via', data=disputed_cons)\n",
    "plt.show()"
   ]
  },
  {
   "cell_type": "code",
   "execution_count": 33,
   "metadata": {},
   "outputs": [
    {
     "data": {
      "image/png": "[encoded data removed]",
      "text/plain": [
       "<Figure size 640x480 with 1 Axes>"
      ]
     },
     "metadata": {},
     "output_type": "display_data"
    }
   ],
   "source": [
    "## Pie chart for visualization of percentage of total no. of disputes by Submitted via different source/medium:\n",
    "values = disputed_cons['Submitted via'].value_counts().values\n",
    "medium = disputed_cons['Submitted via'].value_counts().index\n",
    "ex = [0,0.3,0,0,0,0]\n",
    "plt.pie(values, autopct='%0.1f%%', explode=ex,\n",
    "        radius=2, startangle=45)\n",
    "plt.legend(medium)\n",
    "plt.show()"
   ]
  },
  {
   "cell_type": "markdown",
   "metadata": {},
   "source": [
    "    We observed that 72% of disputes were submitted only via Web portal\n",
    "    and 88% of disputes via both Web portal and Referral."
   ]
  },
  {
   "cell_type": "markdown",
   "metadata": {},
   "source": [
    "#Total_disputes_source = disputed_cons['Submitted via'].value_counts()/len(disputed_cons)*100\n",
    "#Total_disputes_source"
   ]
  },
  {
   "cell_type": "markdown",
   "metadata": {
    "id": "rl_JZPCipoqa"
   },
   "source": [
    "## Plot bar graph for the total no of disputes where Company's Response to the Complaints"
   ]
  },
  {
   "cell_type": "code",
   "execution_count": 34,
   "metadata": {
    "id": "2XTLjfbtpoqa"
   },
   "outputs": [
    {
     "data": {
      "image/png": "[encoded data removed]",
      "text/plain": [
       "<Figure size 600x400 with 1 Axes>"
      ]
     },
     "metadata": {},
     "output_type": "display_data"
    }
   ],
   "source": [
    "plt.figure(figsize=(6,4))\n",
    "sns.countplot(x='Company response to consumer', data=df_train)\n",
    "plt.xticks(rotation=90)\n",
    "plt.show()"
   ]
  },
  {
   "cell_type": "code",
   "execution_count": 35,
   "metadata": {},
   "outputs": [
    {
     "data": {
      "image/png": "[encoded data removed]",
      "text/plain": [
       "<Figure size 640x480 with 1 Axes>"
      ]
     },
     "metadata": {},
     "output_type": "display_data"
    }
   ],
   "source": [
    "## Pie chart for visualization of percentage of total no. of disputes where Company's Response to the Complaints:\n",
    "values = df_train['Company response to consumer'].value_counts().values\n",
    "medium = df_train['Company response to consumer'].value_counts().index\n",
    "ex = [0,0.3,0,0,0,0]\n",
    "plt.pie(values, autopct='%0.1f%%', explode=ex,\n",
    "        radius=2, startangle=45)\n",
    "plt.legend(medium)\n",
    "plt.show()\n",
    "## This will be executed when we will give this a re-run..."
   ]
  },
  {
   "cell_type": "markdown",
   "metadata": {},
   "source": [
    "    We observed that 74% of disputes were closed with explanation by the company."
   ]
  },
  {
   "cell_type": "markdown",
   "metadata": {},
   "source": [
    "#Total_response_train = df_train['Company response to consumer'].value_counts()/len(df_train)*100\n",
    "#Total_response_train"
   ]
  },
  {
   "cell_type": "markdown",
   "metadata": {
    "id": "pGvHtAP2poqa"
   },
   "source": [
    "## Plot bar graph for the total no of disputes where Company's Response Leading to Disputes"
   ]
  },
  {
   "cell_type": "code",
   "execution_count": 36,
   "metadata": {
    "id": "4MdIaJKJpoqa"
   },
   "outputs": [
    {
     "data": {
      "image/png": "[encoded data removed]",
      "text/plain": [
       "<Figure size 600x400 with 1 Axes>"
      ]
     },
     "metadata": {},
     "output_type": "display_data"
    }
   ],
   "source": [
    "plt.figure(figsize=(6,4))\n",
    "sns.countplot(x='Company response to consumer', data=disputed_cons)\n",
    "plt.xticks(rotation=90)\n",
    "plt.show()"
   ]
  },
  {
   "cell_type": "code",
   "execution_count": 37,
   "metadata": {},
   "outputs": [
    {
     "data": {
      "image/png": "[encoded data removed]",
      "text/plain": [
       "<Figure size 640x480 with 1 Axes>"
      ]
     },
     "metadata": {},
     "output_type": "display_data"
    }
   ],
   "source": [
    "## Pie chart for visualization of percentage of total no. of disputes where Company's Response Leading to Disputes:\n",
    "values = disputed_cons['Company response to consumer'].value_counts().values\n",
    "medium = disputed_cons['Company response to consumer'].value_counts().index\n",
    "ex = [0,0.3,0,0,0,0]\n",
    "plt.pie(values, autopct='%0.1f%%', explode=ex,\n",
    "        radius=2, startangle=45)\n",
    "plt.legend(medium)\n",
    "plt.show()"
   ]
  },
  {
   "cell_type": "markdown",
   "metadata": {},
   "source": [
    "    We observed that 82% disputes were closed with explanation.\n",
    "    And 90% disputed were closed either with explanation or non-monetary relief"
   ]
  },
  {
   "cell_type": "markdown",
   "metadata": {},
   "source": [
    "total_response_cons = disputed_cons['Company response to consumer'].value_counts()/len(disputed_cons)*100\n",
    "total_response_cons"
   ]
  },
  {
   "cell_type": "markdown",
   "metadata": {
    "id": "myL-cp2Dpoqb"
   },
   "source": [
    "## Plot bar graph for the total no of disputes Whether there are Disputes Instead of Timely Response"
   ]
  },
  {
   "cell_type": "code",
   "execution_count": 38,
   "metadata": {
    "id": "EyPJWgZUpoqb"
   },
   "outputs": [
    {
     "data": {
      "text/plain": [
       "Text(0.5, 0, 'Timely Response')"
      ]
     },
     "execution_count": 38,
     "metadata": {},
     "output_type": "execute_result"
    },
    {
     "data": {
      "image/png": "[encoded data removed]",
      "text/plain": [
       "<Figure size 640x480 with 1 Axes>"
      ]
     },
     "metadata": {},
     "output_type": "display_data"
    }
   ],
   "source": [
    "sns.countplot(x='Timely response?', data=disputed_cons)\n",
    "plt.xlabel('Timely Response')"
   ]
  },
  {
   "cell_type": "markdown",
   "metadata": {},
   "source": [
    "    We observed that 98% disputes were timely responded."
   ]
  },
  {
   "cell_type": "markdown",
   "metadata": {},
   "source": [
    "#timely_response = len(disputed_cons[disputed_cons['Timely response?']=='Yes'])/len(disputed_cons)*100\n",
    "#timely_response"
   ]
  },
  {
   "cell_type": "markdown",
   "metadata": {
    "id": "t91R-deppoqb"
   },
   "source": [
    "## Plot bar graph for the total no of disputes over Year Wise Complaints"
   ]
  },
  {
   "cell_type": "code",
   "execution_count": 39,
   "metadata": {
    "id": "vGBscEOJpoqb"
   },
   "outputs": [
    {
     "data": {
      "image/png": "[encoded data removed]",
      "text/plain": [
       "<Figure size 600x400 with 1 Axes>"
      ]
     },
     "metadata": {},
     "output_type": "display_data"
    }
   ],
   "source": [
    "plt.figure(figsize=(6,4))\n",
    "sns.countplot(x='Year Received', data=df_train)\n",
    "plt.xlabel('Year')\n",
    "plt.title('Complaints Received on Yearly basis')\n",
    "plt.show()"
   ]
  },
  {
   "cell_type": "markdown",
   "metadata": {},
   "source": [
    "    We observed 28% of complaints were received in 2015.\n",
    "    53% complaints were received in 2014 & 2015.\n",
    "    71% complaints were received in 2013 to 2015.\n",
    "    88% complaints were received in 2013 to 2016."
   ]
  },
  {
   "cell_type": "markdown",
   "metadata": {},
   "source": [
    "#year_wise_disputes = df_train['Year Received'].value_counts()/len(df_train)*100\n",
    "#year_wise_disputes"
   ]
  },
  {
   "cell_type": "markdown",
   "metadata": {
    "id": "xT4ZwSo0poqc"
   },
   "source": [
    "## Plot bar graph for the total no of disputes over Year Wise Disputes"
   ]
  },
  {
   "cell_type": "code",
   "execution_count": 40,
   "metadata": {
    "id": "ADdy8Zavpoqc"
   },
   "outputs": [
    {
     "data": {
      "image/png": "[encoded data removed]",
      "text/plain": [
       "<Figure size 600x400 with 1 Axes>"
      ]
     },
     "metadata": {},
     "output_type": "display_data"
    }
   ],
   "source": [
    "plt.figure(figsize=(6,4))\n",
    "sns.countplot(x='Year Received', data=disputed_cons)\n",
    "plt.xlabel('Year')\n",
    "plt.title('Disputed received on Yearly basis')\n",
    "plt.show()"
   ]
  },
  {
   "cell_type": "markdown",
   "metadata": {},
   "source": [
    "    We observed that 27% of disputes were occured in 2015.\n",
    "    50% disputes were occured in 2014 and 2015.\n",
    "    68% disputed were occured in 2014 to 2016.\n",
    "    86% disputed were occured in 2013 to 2016.<b>"
   ]
  },
  {
   "cell_type": "markdown",
   "metadata": {},
   "source": [
    "#Year_disputes = disputed_cons['Year Received'].value_counts()/len(disputed_cons)*100\n",
    "#Year_disputes"
   ]
  },
  {
   "cell_type": "markdown",
   "metadata": {
    "id": "5pCBYQhTpoqc"
   },
   "source": [
    "## Plot  bar graph for the top companies with highest complaints"
   ]
  },
  {
   "cell_type": "code",
   "execution_count": 41,
   "metadata": {
    "id": "0ovADVRSpoqc"
   },
   "outputs": [
    {
     "data": {
      "image/png": "[encoded data removed]",
      "text/plain": [
       "<Figure size 640x480 with 1 Axes>"
      ]
     },
     "metadata": {},
     "output_type": "display_data"
    }
   ],
   "source": [
    "worst_companies_complaints = df_train['Company'].value_counts().sort_values(ascending=False).head(10)\n",
    "sns.barplot(x=worst_companies_complaints.index, y=worst_companies_complaints.values)\n",
    "plt.xticks(rotation=90)\n",
    "plt.show()"
   ]
  },
  {
   "cell_type": "markdown",
   "metadata": {},
   "source": [
    "    We observed that 54% complaints were against these 10 companies."
   ]
  },
  {
   "cell_type": "markdown",
   "metadata": {},
   "source": [
    "#worst_company_percent = df_train['Company'].value_counts()/len(df_train)*100\n",
    "#worst_company_percent.head(10)"
   ]
  },
  {
   "cell_type": "markdown",
   "metadata": {
    "id": "d_VB1_2Qpoqc"
   },
   "source": [
    "## \"Days Held\" Column Analysis(describe)"
   ]
  },
  {
   "cell_type": "code",
   "execution_count": 42,
   "metadata": {
    "id": "fan0xohapoqd"
   },
   "outputs": [
    {
     "data": {
      "text/plain": [
       "count    358810.000000\n",
       "mean          4.456339\n",
       "std          16.741676\n",
       "min          -1.000000\n",
       "25%           0.000000\n",
       "50%           1.000000\n",
       "75%           4.000000\n",
       "max         993.000000\n",
       "Name: Days Held, dtype: float64"
      ]
     },
     "execution_count": 42,
     "metadata": {},
     "output_type": "execute_result"
    }
   ],
   "source": [
    "df_train['Days Held'].describe()"
   ]
  },
  {
   "cell_type": "code",
   "execution_count": 43,
   "metadata": {},
   "outputs": [
    {
     "data": {
      "text/plain": [
       "count    119606.000000\n",
       "mean          4.443607\n",
       "std          16.233377\n",
       "min          -1.000000\n",
       "25%           0.000000\n",
       "50%           1.000000\n",
       "75%           4.000000\n",
       "max         832.000000\n",
       "Name: Days Held, dtype: float64"
      ]
     },
     "execution_count": 43,
     "metadata": {},
     "output_type": "execute_result"
    }
   ],
   "source": [
    "df_test['Days Held'].describe()"
   ]
  },
  {
   "cell_type": "markdown",
   "metadata": {
    "id": "vlLBckNcpoqd"
   },
   "source": [
    "## Convert Negative Days Held to Zero(it is the time taken by authority can't be negative)"
   ]
  },
  {
   "cell_type": "code",
   "execution_count": 44,
   "metadata": {
    "id": "qLPLLq6Ppoqd"
   },
   "outputs": [],
   "source": [
    "#len(df_train[df_train['Days Held']==-1])\n",
    "#len(df_train[df_train['Days Held']==-1])\n",
    "df_train['Days Held'] = df_train['Days Held'].replace(-1,0)\n",
    "df_test['Days Held'] = df_test['Days Held'].replace(-1,0)"
   ]
  },
  {
   "cell_type": "markdown",
   "metadata": {
    "id": "Phr6eNn6poqd"
   },
   "source": [
    "## Drop Days Held with Negative Values"
   ]
  },
  {
   "cell_type": "code",
   "execution_count": 45,
   "metadata": {
    "id": "jkXWSNrxpoqd"
   },
   "outputs": [],
   "source": [
    "df_train = df_train.drop('Days Held', axis=1)\n",
    "df_test = df_test.drop('Days Held', axis=1)"
   ]
  },
  {
   "cell_type": "markdown",
   "metadata": {},
   "source": [
    "df_train.columns"
   ]
  },
  {
   "cell_type": "markdown",
   "metadata": {
    "id": "oPGVV2cypoqe"
   },
   "source": [
    "## Text pre-processing\n",
    "    (It will be cover in upcoming calsses)"
   ]
  },
  {
   "cell_type": "code",
   "execution_count": 46,
   "metadata": {
    "id": "wUs9mtE-poqe"
   },
   "outputs": [],
   "source": [
    "relevant_text_train = df_train['Issue']\n",
    "relevant_text_test = df_test['Issue']\n",
    "tokenized_data_train = relevant_text_train.apply(lambda x: wordpunct_tokenize(x.lower())) #make words in lower case\n",
    "tokenized_data_test = relevant_text_test.apply(lambda x: wordpunct_tokenize(x.lower()))\n",
    "def remove_punctuation(text):\n",
    "    no_punctuation = [] #for storing sentences without punctuation\n",
    "    for w in text:\n",
    "        if w not in string.punctuation:\n",
    "            no_punctuation.append(w)\n",
    "    return no_punctuation\n",
    "no_punctuation_data_train = tokenized_data_train.apply(lambda x: remove_punctuation(x)) #applying created function\n",
    "no_punctuation_data_test = tokenized_data_test.apply(lambda x: remove_punctuation(x))\n",
    "stop_words = stopwords.words('english')\n",
    "#checking words with words present in english library above\n",
    "filtered_sentence_train = [w for w in no_punctuation_data_train if not w in stop_words]\n",
    "filtered_sentence_train = pd.Series(filtered_sentence_train)\n",
    "filtered_sentence_test = [w for w in no_punctuation_data_test if not w in stop_words]\n",
    "filtered_sentence_test = pd.Series(filtered_sentence_test)\n",
    "def lemmatize_text(text):\n",
    "    lem_text = [WordNetLemmatizer().lemmatize(w,pos = 'v') for w in text]\n",
    "    return lem_text\n",
    "lemmatized_data_train = filtered_sentence_train.apply(lambda x:lemmatize_text(x))\n",
    "lemmatized_data_test = filtered_sentence_test.apply(lambda x:lemmatize_text(x))\n",
    "def stem_text(text):\n",
    "    stem_text = [PorterStemmer().stem(w) for w in text]\n",
    "    return stem_text\n",
    "stemmed_data_train = lemmatized_data_train.apply(lambda x:stem_text(x))\n",
    "stemmed_data_test = lemmatized_data_test.apply(lambda x:stem_text(x))\n",
    "def word_to_sentence(text):\n",
    "    text_sentence = \" \".join(text)\n",
    "    return text_sentence\n",
    "clean_data_train = stemmed_data_train.apply(lambda x:word_to_sentence(x))\n",
    "clean_data_test = stemmed_data_test.apply(lambda x:word_to_sentence(x))"
   ]
  },
  {
   "cell_type": "code",
   "execution_count": 47,
   "metadata": {
    "id": "WFlUCeGxpoqf"
   },
   "outputs": [],
   "source": [
    "df_train['Issues_cleaned'] = clean_data_train\n",
    "df_test['Issues_cleaned'] = clean_data_test\n",
    "df_train = df_train.drop('Issue', axis = 1)\n",
    "df_test = df_test.drop('Issue', axis = 1)"
   ]
  },
  {
   "cell_type": "markdown",
   "metadata": {
    "id": "7h1ZLZwSpoqg"
   },
   "source": [
    "##    Drop Unnecessary Columns for the Model Building<br> like:'Company', 'State', 'Year_Received', 'Days_held'"
   ]
  },
  {
   "cell_type": "code",
   "execution_count": 48,
   "metadata": {
    "id": "JAhztPQ9poqg"
   },
   "outputs": [],
   "source": [
    "drop_columns = ['Company', 'State', 'Year Received']\n",
    "df_train = df_train.drop(drop_columns, axis=1)\n",
    "df_test = df_test.drop(drop_columns, axis=1)"
   ]
  },
  {
   "cell_type": "code",
   "execution_count": 49,
   "metadata": {},
   "outputs": [
    {
     "data": {
      "text/plain": [
       "Index(['Product', 'Submitted via', 'Company response to consumer',\n",
       "       'Timely response?', 'Consumer disputed?', 'Month Received',\n",
       "       'Week Received', 'Issues_cleaned'],\n",
       "      dtype='object')"
      ]
     },
     "execution_count": 49,
     "metadata": {},
     "output_type": "execute_result"
    }
   ],
   "source": [
    "df_train.columns\n",
    "#df_test.columns"
   ]
  },
  {
   "cell_type": "markdown",
   "metadata": {
    "id": "MbQVqtzqpoqg"
   },
   "source": [
    "## Change Consumer Disputed Column to 0 and 1(yes to 1, and no to 0)"
   ]
  },
  {
   "cell_type": "code",
   "execution_count": 50,
   "metadata": {
    "id": "rYaesKiVpoqh"
   },
   "outputs": [],
   "source": [
    "df_train['Consumer disputed?'] = df_train['Consumer disputed?'].replace('Yes', 1)\n",
    "df_train['Consumer disputed?'] = df_train['Consumer disputed?'].replace('No', 0)"
   ]
  },
  {
   "cell_type": "markdown",
   "metadata": {
    "id": "Cf3IZk9Upoqh"
   },
   "source": [
    "## Create Dummy Variables for catagorical features like: 'Product', 'Submitted via', 'Company response to consumer', 'Timely response?'"
   ]
  },
  {
   "cell_type": "code",
   "execution_count": 51,
   "metadata": {
    "id": "aZR2mdiIpoqh"
   },
   "outputs": [],
   "source": [
    "dummy_cols = ['Product', 'Submitted via', 'Company response to consumer', 'Timely response?']\n",
    "df_train_dummies = pd.get_dummies(df_train[dummy_cols], prefix_sep = '_', drop_first=True)\n",
    "df_test_dummies = pd.get_dummies(df_test[dummy_cols], prefix_sep = '_', drop_first=True)"
   ]
  },
  {
   "cell_type": "markdown",
   "metadata": {
    "id": "t8hd8_Tvpoqh"
   },
   "source": [
    "## Concate Dummy Variables and Drop the Original Columns"
   ]
  },
  {
   "cell_type": "code",
   "execution_count": 52,
   "metadata": {
    "id": "3aU54mOOpoqi"
   },
   "outputs": [],
   "source": [
    "df_train = df_train.drop(dummy_cols, axis=1)\n",
    "df_test = df_test.drop(dummy_cols, axis=1)\n",
    "df_train = pd.concat([df_train, df_train_dummies], axis=1)\n",
    "df_test = pd.concat([df_test, df_test_dummies], axis=1)"
   ]
  },
  {
   "cell_type": "markdown",
   "metadata": {
    "id": "q49q-yVxpoqi"
   },
   "source": [
    "## Calculating TF-IDF"
   ]
  },
  {
   "cell_type": "code",
   "execution_count": 53,
   "metadata": {
    "id": "xsuxLlykpoqi"
   },
   "outputs": [
    {
     "data": {
      "text/html": [
       "<div>\n",
       "<style scoped>\n",
       "    .dataframe tbody tr th:only-of-type {\n",
       "        vertical-align: middle;\n",
       "    }\n",
       "\n",
       "    .dataframe tbody tr th {\n",
       "        vertical-align: top;\n",
       "    }\n",
       "\n",
       "    .dataframe thead th {\n",
       "        text-align: right;\n",
       "    }\n",
       "</style>\n",
       "<table border=\"1\" class=\"dataframe\">\n",
       "  <thead>\n",
       "    <tr style=\"text-align: right;\">\n",
       "      <th></th>\n",
       "      <th>Idf_weights</th>\n",
       "    </tr>\n",
       "  </thead>\n",
       "  <tbody>\n",
       "    <tr>\n",
       "      <th>exchang</th>\n",
       "      <td>11.998819</td>\n",
       "    </tr>\n",
       "    <tr>\n",
       "      <th>damag</th>\n",
       "      <td>11.593354</td>\n",
       "    </tr>\n",
       "    <tr>\n",
       "      <th>destroy</th>\n",
       "      <td>11.593354</td>\n",
       "    </tr>\n",
       "    <tr>\n",
       "      <th>overdraft</th>\n",
       "      <td>11.305672</td>\n",
       "    </tr>\n",
       "    <tr>\n",
       "      <th>featur</th>\n",
       "      <td>11.305672</td>\n",
       "    </tr>\n",
       "  </tbody>\n",
       "</table>\n",
       "</div>"
      ],
      "text/plain": [
       "           Idf_weights\n",
       "exchang      11.998819\n",
       "damag        11.593354\n",
       "destroy      11.593354\n",
       "overdraft    11.305672\n",
       "featur       11.305672"
      ]
     },
     "execution_count": 53,
     "metadata": {},
     "output_type": "execute_result"
    }
   ],
   "source": [
    "tf = TfidfVectorizer()\n",
    "issues_cleaned_train = tf.fit_transform(df_train['Issues_cleaned']).toarray()\n",
    "issues_cleaned_test = tf.fit_transform(df_test['Issues_cleaned']).toarray()\n",
    "tf_columns_train = []\n",
    "tf_columns_test = []\n",
    "for i in range(issues_cleaned_train.shape[1]):\n",
    "    tf_columns_train.append('Feature' + str(i+1))\n",
    "for i in range(issues_cleaned_test.shape[1]):\n",
    "    tf_columns_test.append('Feature' + str(i+1))\n",
    "issues_train = pd.DataFrame(issues_cleaned_train, columns = tf_columns_train)\n",
    "issues_test = pd.DataFrame(issues_cleaned_test, columns = tf_columns_test)\n",
    "weights = pd.DataFrame(tf.idf_, index = tf.get_feature_names_out(), columns = ['Idf_weights']).sort_values(by = 'Idf_weights', ascending = False)\n",
    "weights.head()"
   ]
  },
  {
   "cell_type": "markdown",
   "metadata": {
    "id": "rxPhTO_Qpoqi"
   },
   "source": [
    "## Replacing Issues_cleaned by Vectorized Issues"
   ]
  },
  {
   "cell_type": "code",
   "execution_count": 54,
   "metadata": {
    "id": "ScmPUijrpoqi"
   },
   "outputs": [],
   "source": [
    "df_train = df_train.drop('Issues_cleaned', axis = 1)\n",
    "df_test = df_test.drop('Issues_cleaned', axis = 1)\n",
    "df_train = pd.concat([df_train, issues_train], axis = 1)\n",
    "df_test = pd.concat([df_test, issues_test], axis = 1)\n",
    "Feature168 = [0] * 119606\n",
    "df_test['Feature168'] = Feature168"
   ]
  },
  {
   "cell_type": "markdown",
   "metadata": {
    "id": "EwK9D-o-poqj"
   },
   "source": [
    "## Observe train and test datasets"
   ]
  },
  {
   "cell_type": "code",
   "execution_count": 55,
   "metadata": {
    "id": "OlTcTkPopoqj"
   },
   "outputs": [
    {
     "data": {
      "text/html": [
       "<div>\n",
       "<style scoped>\n",
       "    .dataframe tbody tr th:only-of-type {\n",
       "        vertical-align: middle;\n",
       "    }\n",
       "\n",
       "    .dataframe tbody tr th {\n",
       "        vertical-align: top;\n",
       "    }\n",
       "\n",
       "    .dataframe thead th {\n",
       "        text-align: right;\n",
       "    }\n",
       "</style>\n",
       "<table border=\"1\" class=\"dataframe\">\n",
       "  <thead>\n",
       "    <tr style=\"text-align: right;\">\n",
       "      <th></th>\n",
       "      <th>Consumer disputed?</th>\n",
       "      <th>Month Received</th>\n",
       "      <th>Week Received</th>\n",
       "      <th>Product_Consumer Loan</th>\n",
       "      <th>Product_Credit card</th>\n",
       "      <th>Product_Credit reporting</th>\n",
       "      <th>Product_Debt collection</th>\n",
       "      <th>Product_Money transfers</th>\n",
       "      <th>Product_Mortgage</th>\n",
       "      <th>Product_Other financial service</th>\n",
       "      <th>...</th>\n",
       "      <th>Feature159</th>\n",
       "      <th>Feature160</th>\n",
       "      <th>Feature161</th>\n",
       "      <th>Feature162</th>\n",
       "      <th>Feature163</th>\n",
       "      <th>Feature164</th>\n",
       "      <th>Feature165</th>\n",
       "      <th>Feature166</th>\n",
       "      <th>Feature167</th>\n",
       "      <th>Feature168</th>\n",
       "    </tr>\n",
       "  </thead>\n",
       "  <tbody>\n",
       "    <tr>\n",
       "      <th>0</th>\n",
       "      <td>0</td>\n",
       "      <td>10</td>\n",
       "      <td>2</td>\n",
       "      <td>0</td>\n",
       "      <td>0</td>\n",
       "      <td>1</td>\n",
       "      <td>0</td>\n",
       "      <td>0</td>\n",
       "      <td>0</td>\n",
       "      <td>0</td>\n",
       "      <td>...</td>\n",
       "      <td>0.0</td>\n",
       "      <td>0.0</td>\n",
       "      <td>0.000000</td>\n",
       "      <td>0.0</td>\n",
       "      <td>0.0</td>\n",
       "      <td>0.000000</td>\n",
       "      <td>0.0</td>\n",
       "      <td>0.0</td>\n",
       "      <td>0.0</td>\n",
       "      <td>0.0</td>\n",
       "    </tr>\n",
       "    <tr>\n",
       "      <th>1</th>\n",
       "      <td>1</td>\n",
       "      <td>4</td>\n",
       "      <td>4</td>\n",
       "      <td>0</td>\n",
       "      <td>0</td>\n",
       "      <td>0</td>\n",
       "      <td>0</td>\n",
       "      <td>0</td>\n",
       "      <td>0</td>\n",
       "      <td>0</td>\n",
       "      <td>...</td>\n",
       "      <td>0.0</td>\n",
       "      <td>0.0</td>\n",
       "      <td>0.000000</td>\n",
       "      <td>0.0</td>\n",
       "      <td>0.0</td>\n",
       "      <td>0.596349</td>\n",
       "      <td>0.0</td>\n",
       "      <td>0.0</td>\n",
       "      <td>0.0</td>\n",
       "      <td>0.0</td>\n",
       "    </tr>\n",
       "    <tr>\n",
       "      <th>2</th>\n",
       "      <td>0</td>\n",
       "      <td>12</td>\n",
       "      <td>3</td>\n",
       "      <td>0</td>\n",
       "      <td>1</td>\n",
       "      <td>0</td>\n",
       "      <td>0</td>\n",
       "      <td>0</td>\n",
       "      <td>0</td>\n",
       "      <td>0</td>\n",
       "      <td>...</td>\n",
       "      <td>0.0</td>\n",
       "      <td>0.0</td>\n",
       "      <td>0.000000</td>\n",
       "      <td>0.0</td>\n",
       "      <td>0.0</td>\n",
       "      <td>0.000000</td>\n",
       "      <td>0.0</td>\n",
       "      <td>0.0</td>\n",
       "      <td>0.0</td>\n",
       "      <td>0.0</td>\n",
       "    </tr>\n",
       "    <tr>\n",
       "      <th>3</th>\n",
       "      <td>0</td>\n",
       "      <td>3</td>\n",
       "      <td>1</td>\n",
       "      <td>0</td>\n",
       "      <td>0</td>\n",
       "      <td>0</td>\n",
       "      <td>1</td>\n",
       "      <td>0</td>\n",
       "      <td>0</td>\n",
       "      <td>0</td>\n",
       "      <td>...</td>\n",
       "      <td>0.0</td>\n",
       "      <td>0.0</td>\n",
       "      <td>0.551342</td>\n",
       "      <td>0.0</td>\n",
       "      <td>0.0</td>\n",
       "      <td>0.000000</td>\n",
       "      <td>0.0</td>\n",
       "      <td>0.0</td>\n",
       "      <td>0.0</td>\n",
       "      <td>0.0</td>\n",
       "    </tr>\n",
       "    <tr>\n",
       "      <th>4</th>\n",
       "      <td>1</td>\n",
       "      <td>1</td>\n",
       "      <td>4</td>\n",
       "      <td>0</td>\n",
       "      <td>0</td>\n",
       "      <td>0</td>\n",
       "      <td>1</td>\n",
       "      <td>0</td>\n",
       "      <td>0</td>\n",
       "      <td>0</td>\n",
       "      <td>...</td>\n",
       "      <td>0.0</td>\n",
       "      <td>0.0</td>\n",
       "      <td>0.551342</td>\n",
       "      <td>0.0</td>\n",
       "      <td>0.0</td>\n",
       "      <td>0.000000</td>\n",
       "      <td>0.0</td>\n",
       "      <td>0.0</td>\n",
       "      <td>0.0</td>\n",
       "      <td>0.0</td>\n",
       "    </tr>\n",
       "  </tbody>\n",
       "</table>\n",
       "<p>5 rows × 193 columns</p>\n",
       "</div>"
      ],
      "text/plain": [
       "   Consumer disputed?  Month Received  Week Received  Product_Consumer Loan  \\\n",
       "0                   0              10              2                      0   \n",
       "1                   1               4              4                      0   \n",
       "2                   0              12              3                      0   \n",
       "3                   0               3              1                      0   \n",
       "4                   1               1              4                      0   \n",
       "\n",
       "   Product_Credit card  Product_Credit reporting  Product_Debt collection  \\\n",
       "0                    0                         1                        0   \n",
       "1                    0                         0                        0   \n",
       "2                    1                         0                        0   \n",
       "3                    0                         0                        1   \n",
       "4                    0                         0                        1   \n",
       "\n",
       "   Product_Money transfers  Product_Mortgage  Product_Other financial service  \\\n",
       "0                        0                 0                                0   \n",
       "1                        0                 0                                0   \n",
       "2                        0                 0                                0   \n",
       "3                        0                 0                                0   \n",
       "4                        0                 0                                0   \n",
       "\n",
       "   ...  Feature159  Feature160  Feature161  Feature162  Feature163  \\\n",
       "0  ...         0.0         0.0    0.000000         0.0         0.0   \n",
       "1  ...         0.0         0.0    0.000000         0.0         0.0   \n",
       "2  ...         0.0         0.0    0.000000         0.0         0.0   \n",
       "3  ...         0.0         0.0    0.551342         0.0         0.0   \n",
       "4  ...         0.0         0.0    0.551342         0.0         0.0   \n",
       "\n",
       "   Feature164  Feature165  Feature166  Feature167  Feature168  \n",
       "0    0.000000         0.0         0.0         0.0         0.0  \n",
       "1    0.596349         0.0         0.0         0.0         0.0  \n",
       "2    0.000000         0.0         0.0         0.0         0.0  \n",
       "3    0.000000         0.0         0.0         0.0         0.0  \n",
       "4    0.000000         0.0         0.0         0.0         0.0  \n",
       "\n",
       "[5 rows x 193 columns]"
      ]
     },
     "execution_count": 55,
     "metadata": {},
     "output_type": "execute_result"
    }
   ],
   "source": [
    "df_train.head()"
   ]
  },
  {
   "cell_type": "code",
   "execution_count": 56,
   "metadata": {},
   "outputs": [
    {
     "data": {
      "text/html": [
       "<div>\n",
       "<style scoped>\n",
       "    .dataframe tbody tr th:only-of-type {\n",
       "        vertical-align: middle;\n",
       "    }\n",
       "\n",
       "    .dataframe tbody tr th {\n",
       "        vertical-align: top;\n",
       "    }\n",
       "\n",
       "    .dataframe thead th {\n",
       "        text-align: right;\n",
       "    }\n",
       "</style>\n",
       "<table border=\"1\" class=\"dataframe\">\n",
       "  <thead>\n",
       "    <tr style=\"text-align: right;\">\n",
       "      <th></th>\n",
       "      <th>Month Received</th>\n",
       "      <th>Week Received</th>\n",
       "      <th>Product_Consumer Loan</th>\n",
       "      <th>Product_Credit card</th>\n",
       "      <th>Product_Credit reporting</th>\n",
       "      <th>Product_Debt collection</th>\n",
       "      <th>Product_Money transfers</th>\n",
       "      <th>Product_Mortgage</th>\n",
       "      <th>Product_Other financial service</th>\n",
       "      <th>Product_Payday loan</th>\n",
       "      <th>...</th>\n",
       "      <th>Feature159</th>\n",
       "      <th>Feature160</th>\n",
       "      <th>Feature161</th>\n",
       "      <th>Feature162</th>\n",
       "      <th>Feature163</th>\n",
       "      <th>Feature164</th>\n",
       "      <th>Feature165</th>\n",
       "      <th>Feature166</th>\n",
       "      <th>Feature167</th>\n",
       "      <th>Feature168</th>\n",
       "    </tr>\n",
       "  </thead>\n",
       "  <tbody>\n",
       "    <tr>\n",
       "      <th>0</th>\n",
       "      <td>1</td>\n",
       "      <td>3</td>\n",
       "      <td>0</td>\n",
       "      <td>1</td>\n",
       "      <td>0</td>\n",
       "      <td>0</td>\n",
       "      <td>0</td>\n",
       "      <td>0</td>\n",
       "      <td>0</td>\n",
       "      <td>0</td>\n",
       "      <td>...</td>\n",
       "      <td>0.0</td>\n",
       "      <td>0.0</td>\n",
       "      <td>0.000000</td>\n",
       "      <td>0.0</td>\n",
       "      <td>0.0</td>\n",
       "      <td>0.0</td>\n",
       "      <td>0.0</td>\n",
       "      <td>0.000000</td>\n",
       "      <td>0.0</td>\n",
       "      <td>0</td>\n",
       "    </tr>\n",
       "    <tr>\n",
       "      <th>1</th>\n",
       "      <td>6</td>\n",
       "      <td>4</td>\n",
       "      <td>1</td>\n",
       "      <td>0</td>\n",
       "      <td>0</td>\n",
       "      <td>0</td>\n",
       "      <td>0</td>\n",
       "      <td>0</td>\n",
       "      <td>0</td>\n",
       "      <td>0</td>\n",
       "      <td>...</td>\n",
       "      <td>0.0</td>\n",
       "      <td>0.0</td>\n",
       "      <td>0.000000</td>\n",
       "      <td>0.0</td>\n",
       "      <td>0.0</td>\n",
       "      <td>0.0</td>\n",
       "      <td>0.0</td>\n",
       "      <td>0.000000</td>\n",
       "      <td>0.0</td>\n",
       "      <td>0</td>\n",
       "    </tr>\n",
       "    <tr>\n",
       "      <th>2</th>\n",
       "      <td>9</td>\n",
       "      <td>1</td>\n",
       "      <td>0</td>\n",
       "      <td>1</td>\n",
       "      <td>0</td>\n",
       "      <td>0</td>\n",
       "      <td>0</td>\n",
       "      <td>0</td>\n",
       "      <td>0</td>\n",
       "      <td>0</td>\n",
       "      <td>...</td>\n",
       "      <td>0.0</td>\n",
       "      <td>0.0</td>\n",
       "      <td>0.000000</td>\n",
       "      <td>0.0</td>\n",
       "      <td>0.0</td>\n",
       "      <td>0.0</td>\n",
       "      <td>0.0</td>\n",
       "      <td>0.000000</td>\n",
       "      <td>0.0</td>\n",
       "      <td>0</td>\n",
       "    </tr>\n",
       "    <tr>\n",
       "      <th>3</th>\n",
       "      <td>5</td>\n",
       "      <td>3</td>\n",
       "      <td>1</td>\n",
       "      <td>0</td>\n",
       "      <td>0</td>\n",
       "      <td>0</td>\n",
       "      <td>0</td>\n",
       "      <td>0</td>\n",
       "      <td>0</td>\n",
       "      <td>0</td>\n",
       "      <td>...</td>\n",
       "      <td>0.0</td>\n",
       "      <td>0.0</td>\n",
       "      <td>0.406735</td>\n",
       "      <td>0.0</td>\n",
       "      <td>0.0</td>\n",
       "      <td>0.0</td>\n",
       "      <td>0.0</td>\n",
       "      <td>0.413484</td>\n",
       "      <td>0.0</td>\n",
       "      <td>0</td>\n",
       "    </tr>\n",
       "    <tr>\n",
       "      <th>4</th>\n",
       "      <td>7</td>\n",
       "      <td>1</td>\n",
       "      <td>0</td>\n",
       "      <td>0</td>\n",
       "      <td>0</td>\n",
       "      <td>1</td>\n",
       "      <td>0</td>\n",
       "      <td>0</td>\n",
       "      <td>0</td>\n",
       "      <td>0</td>\n",
       "      <td>...</td>\n",
       "      <td>0.0</td>\n",
       "      <td>0.0</td>\n",
       "      <td>0.000000</td>\n",
       "      <td>0.0</td>\n",
       "      <td>0.0</td>\n",
       "      <td>0.0</td>\n",
       "      <td>0.0</td>\n",
       "      <td>0.000000</td>\n",
       "      <td>0.0</td>\n",
       "      <td>0</td>\n",
       "    </tr>\n",
       "  </tbody>\n",
       "</table>\n",
       "<p>5 rows × 192 columns</p>\n",
       "</div>"
      ],
      "text/plain": [
       "   Month Received  Week Received  Product_Consumer Loan  Product_Credit card  \\\n",
       "0               1              3                      0                    1   \n",
       "1               6              4                      1                    0   \n",
       "2               9              1                      0                    1   \n",
       "3               5              3                      1                    0   \n",
       "4               7              1                      0                    0   \n",
       "\n",
       "   Product_Credit reporting  Product_Debt collection  Product_Money transfers  \\\n",
       "0                         0                        0                        0   \n",
       "1                         0                        0                        0   \n",
       "2                         0                        0                        0   \n",
       "3                         0                        0                        0   \n",
       "4                         0                        1                        0   \n",
       "\n",
       "   Product_Mortgage  Product_Other financial service  Product_Payday loan  \\\n",
       "0                 0                                0                    0   \n",
       "1                 0                                0                    0   \n",
       "2                 0                                0                    0   \n",
       "3                 0                                0                    0   \n",
       "4                 0                                0                    0   \n",
       "\n",
       "   ...  Feature159  Feature160  Feature161  Feature162  Feature163  \\\n",
       "0  ...         0.0         0.0    0.000000         0.0         0.0   \n",
       "1  ...         0.0         0.0    0.000000         0.0         0.0   \n",
       "2  ...         0.0         0.0    0.000000         0.0         0.0   \n",
       "3  ...         0.0         0.0    0.406735         0.0         0.0   \n",
       "4  ...         0.0         0.0    0.000000         0.0         0.0   \n",
       "\n",
       "   Feature164  Feature165  Feature166  Feature167  Feature168  \n",
       "0         0.0         0.0    0.000000         0.0           0  \n",
       "1         0.0         0.0    0.000000         0.0           0  \n",
       "2         0.0         0.0    0.000000         0.0           0  \n",
       "3         0.0         0.0    0.413484         0.0           0  \n",
       "4         0.0         0.0    0.000000         0.0           0  \n",
       "\n",
       "[5 rows x 192 columns]"
      ]
     },
     "execution_count": 56,
     "metadata": {},
     "output_type": "execute_result"
    }
   ],
   "source": [
    "df_test.head()"
   ]
  },
  {
   "cell_type": "markdown",
   "metadata": {
    "id": "7xGU-cPapoqj"
   },
   "source": [
    "## Observe Shape of new Train and Test Datasets"
   ]
  },
  {
   "cell_type": "code",
   "execution_count": 57,
   "metadata": {
    "id": "79J9Tqjzpoqj"
   },
   "outputs": [
    {
     "data": {
      "text/plain": [
       "(358810, 193)"
      ]
     },
     "execution_count": 57,
     "metadata": {},
     "output_type": "execute_result"
    }
   ],
   "source": [
    "df_train.shape"
   ]
  },
  {
   "cell_type": "code",
   "execution_count": 58,
   "metadata": {},
   "outputs": [
    {
     "data": {
      "text/plain": [
       "(119606, 192)"
      ]
     },
     "execution_count": 58,
     "metadata": {},
     "output_type": "execute_result"
    }
   ],
   "source": [
    "df_test.shape"
   ]
  },
  {
   "cell_type": "markdown",
   "metadata": {
    "id": "P1IKPOYzpoqk"
   },
   "source": [
    "## Scaling the Data Sets (note:discard dependent variable before doing standardization)"
   ]
  },
  {
   "cell_type": "code",
   "execution_count": 59,
   "metadata": {
    "id": "PoxQshrppoqk"
   },
   "outputs": [],
   "source": [
    "df_train_scaled = pd.DataFrame(StandardScaler().fit_transform(df_train.drop('Consumer disputed?', axis=1)), columns=[df_test.columns])\n",
    "#df_train_scaled.head(2)\n",
    "df_test_scaled = pd.DataFrame(StandardScaler().fit_transform(df_test), columns=[df_test.columns])\n",
    "#df_test_scaled.head(2)"
   ]
  },
  {
   "cell_type": "markdown",
   "metadata": {
    "id": "10Pj03fYpoqk"
   },
   "source": [
    "## Do feature selection with help of PCA"
   ]
  },
  {
   "cell_type": "code",
   "execution_count": 60,
   "metadata": {
    "id": "I7ULlKu7poqk"
   },
   "outputs": [],
   "source": [
    "pca_columns = []\n",
    "for i in range(df_train_scaled.shape[1]):\n",
    "    pca_columns.append('PC'+ str(i+1))\n",
    "#pca_columns\n",
    "pca = PCA()\n",
    "pca.fit(df_train_scaled)\n",
    "pca_df_train_scaled = pd.DataFrame(pca.transform(df_train_scaled), columns=pca_columns) #storing pca values\n",
    "#pca_df_train_scaled.head(2)\n",
    "\n",
    "#storing explained_variance_ratio\n",
    "explained_var_train = pd.DataFrame(pca.explained_variance_ratio_, columns=['Explained Ratio']) \n",
    "#explained_var_train.head(2)"
   ]
  },
  {
   "cell_type": "code",
   "execution_count": 61,
   "metadata": {
    "scrolled": true
   },
   "outputs": [
    {
     "data": {
      "text/html": [
       "<div>\n",
       "<style scoped>\n",
       "    .dataframe tbody tr th:only-of-type {\n",
       "        vertical-align: middle;\n",
       "    }\n",
       "\n",
       "    .dataframe tbody tr th {\n",
       "        vertical-align: top;\n",
       "    }\n",
       "\n",
       "    .dataframe thead th {\n",
       "        text-align: right;\n",
       "    }\n",
       "</style>\n",
       "<table border=\"1\" class=\"dataframe\">\n",
       "  <thead>\n",
       "    <tr style=\"text-align: right;\">\n",
       "      <th></th>\n",
       "      <th>Variable</th>\n",
       "      <th>Importance</th>\n",
       "    </tr>\n",
       "  </thead>\n",
       "  <tbody>\n",
       "    <tr>\n",
       "      <th>0</th>\n",
       "      <td>PC1</td>\n",
       "      <td>Explained Ratio    0.0\n",
       "dtype: float64</td>\n",
       "    </tr>\n",
       "    <tr>\n",
       "      <th>1</th>\n",
       "      <td>PC2</td>\n",
       "      <td>Explained Ratio    0.035882\n",
       "dtype: float64</td>\n",
       "    </tr>\n",
       "    <tr>\n",
       "      <th>2</th>\n",
       "      <td>PC3</td>\n",
       "      <td>Explained Ratio    0.069329\n",
       "dtype: float64</td>\n",
       "    </tr>\n",
       "    <tr>\n",
       "      <th>3</th>\n",
       "      <td>PC4</td>\n",
       "      <td>Explained Ratio    0.10149\n",
       "dtype: float64</td>\n",
       "    </tr>\n",
       "    <tr>\n",
       "      <th>4</th>\n",
       "      <td>PC5</td>\n",
       "      <td>Explained Ratio    0.128148\n",
       "dtype: float64</td>\n",
       "    </tr>\n",
       "    <tr>\n",
       "      <th>5</th>\n",
       "      <td>PC6</td>\n",
       "      <td>Explained Ratio    0.153022\n",
       "dtype: float64</td>\n",
       "    </tr>\n",
       "    <tr>\n",
       "      <th>6</th>\n",
       "      <td>PC7</td>\n",
       "      <td>Explained Ratio    0.177157\n",
       "dtype: float64</td>\n",
       "    </tr>\n",
       "    <tr>\n",
       "      <th>7</th>\n",
       "      <td>PC8</td>\n",
       "      <td>Explained Ratio    0.199399\n",
       "dtype: float64</td>\n",
       "    </tr>\n",
       "    <tr>\n",
       "      <th>8</th>\n",
       "      <td>PC9</td>\n",
       "      <td>Explained Ratio    0.221115\n",
       "dtype: float64</td>\n",
       "    </tr>\n",
       "    <tr>\n",
       "      <th>9</th>\n",
       "      <td>PC10</td>\n",
       "      <td>Explained Ratio    0.242562\n",
       "dtype: float64</td>\n",
       "    </tr>\n",
       "    <tr>\n",
       "      <th>10</th>\n",
       "      <td>PC11</td>\n",
       "      <td>Explained Ratio    0.263591\n",
       "dtype: float64</td>\n",
       "    </tr>\n",
       "    <tr>\n",
       "      <th>11</th>\n",
       "      <td>PC12</td>\n",
       "      <td>Explained Ratio    0.284206\n",
       "dtype: float64</td>\n",
       "    </tr>\n",
       "    <tr>\n",
       "      <th>12</th>\n",
       "      <td>PC13</td>\n",
       "      <td>Explained Ratio    0.304503\n",
       "dtype: float64</td>\n",
       "    </tr>\n",
       "    <tr>\n",
       "      <th>13</th>\n",
       "      <td>PC14</td>\n",
       "      <td>Explained Ratio    0.324095\n",
       "dtype: float64</td>\n",
       "    </tr>\n",
       "    <tr>\n",
       "      <th>14</th>\n",
       "      <td>PC15</td>\n",
       "      <td>Explained Ratio    0.342392\n",
       "dtype: float64</td>\n",
       "    </tr>\n",
       "    <tr>\n",
       "      <th>15</th>\n",
       "      <td>PC16</td>\n",
       "      <td>Explained Ratio    0.359918\n",
       "dtype: float64</td>\n",
       "    </tr>\n",
       "    <tr>\n",
       "      <th>16</th>\n",
       "      <td>PC17</td>\n",
       "      <td>Explained Ratio    0.376471\n",
       "dtype: float64</td>\n",
       "    </tr>\n",
       "    <tr>\n",
       "      <th>17</th>\n",
       "      <td>PC18</td>\n",
       "      <td>Explained Ratio    0.392621\n",
       "dtype: float64</td>\n",
       "    </tr>\n",
       "    <tr>\n",
       "      <th>18</th>\n",
       "      <td>PC19</td>\n",
       "      <td>Explained Ratio    0.408426\n",
       "dtype: float64</td>\n",
       "    </tr>\n",
       "    <tr>\n",
       "      <th>19</th>\n",
       "      <td>PC20</td>\n",
       "      <td>Explained Ratio    0.424211\n",
       "dtype: float64</td>\n",
       "    </tr>\n",
       "    <tr>\n",
       "      <th>20</th>\n",
       "      <td>PC21</td>\n",
       "      <td>Explained Ratio    0.439878\n",
       "dtype: float64</td>\n",
       "    </tr>\n",
       "    <tr>\n",
       "      <th>21</th>\n",
       "      <td>PC22</td>\n",
       "      <td>Explained Ratio    0.455268\n",
       "dtype: float64</td>\n",
       "    </tr>\n",
       "    <tr>\n",
       "      <th>22</th>\n",
       "      <td>PC23</td>\n",
       "      <td>Explained Ratio    0.470591\n",
       "dtype: float64</td>\n",
       "    </tr>\n",
       "    <tr>\n",
       "      <th>23</th>\n",
       "      <td>PC24</td>\n",
       "      <td>Explained Ratio    0.485713\n",
       "dtype: float64</td>\n",
       "    </tr>\n",
       "    <tr>\n",
       "      <th>24</th>\n",
       "      <td>PC25</td>\n",
       "      <td>Explained Ratio    0.500596\n",
       "dtype: float64</td>\n",
       "    </tr>\n",
       "    <tr>\n",
       "      <th>25</th>\n",
       "      <td>PC26</td>\n",
       "      <td>Explained Ratio    0.51525\n",
       "dtype: float64</td>\n",
       "    </tr>\n",
       "    <tr>\n",
       "      <th>26</th>\n",
       "      <td>PC27</td>\n",
       "      <td>Explained Ratio    0.529448\n",
       "dtype: float64</td>\n",
       "    </tr>\n",
       "    <tr>\n",
       "      <th>27</th>\n",
       "      <td>PC28</td>\n",
       "      <td>Explained Ratio    0.543402\n",
       "dtype: float64</td>\n",
       "    </tr>\n",
       "    <tr>\n",
       "      <th>28</th>\n",
       "      <td>PC29</td>\n",
       "      <td>Explained Ratio    0.557174\n",
       "dtype: float64</td>\n",
       "    </tr>\n",
       "    <tr>\n",
       "      <th>29</th>\n",
       "      <td>PC30</td>\n",
       "      <td>Explained Ratio    0.570122\n",
       "dtype: float64</td>\n",
       "    </tr>\n",
       "    <tr>\n",
       "      <th>30</th>\n",
       "      <td>PC31</td>\n",
       "      <td>Explained Ratio    0.582458\n",
       "dtype: float64</td>\n",
       "    </tr>\n",
       "    <tr>\n",
       "      <th>31</th>\n",
       "      <td>PC32</td>\n",
       "      <td>Explained Ratio    0.594505\n",
       "dtype: float64</td>\n",
       "    </tr>\n",
       "    <tr>\n",
       "      <th>32</th>\n",
       "      <td>PC33</td>\n",
       "      <td>Explained Ratio    0.606291\n",
       "dtype: float64</td>\n",
       "    </tr>\n",
       "    <tr>\n",
       "      <th>33</th>\n",
       "      <td>PC34</td>\n",
       "      <td>Explained Ratio    0.617604\n",
       "dtype: float64</td>\n",
       "    </tr>\n",
       "    <tr>\n",
       "      <th>34</th>\n",
       "      <td>PC35</td>\n",
       "      <td>Explained Ratio    0.62862\n",
       "dtype: float64</td>\n",
       "    </tr>\n",
       "    <tr>\n",
       "      <th>35</th>\n",
       "      <td>PC36</td>\n",
       "      <td>Explained Ratio    0.639511\n",
       "dtype: float64</td>\n",
       "    </tr>\n",
       "    <tr>\n",
       "      <th>36</th>\n",
       "      <td>PC37</td>\n",
       "      <td>Explained Ratio    0.650281\n",
       "dtype: float64</td>\n",
       "    </tr>\n",
       "    <tr>\n",
       "      <th>37</th>\n",
       "      <td>PC38</td>\n",
       "      <td>Explained Ratio    0.661046\n",
       "dtype: float64</td>\n",
       "    </tr>\n",
       "    <tr>\n",
       "      <th>38</th>\n",
       "      <td>PC39</td>\n",
       "      <td>Explained Ratio    0.671686\n",
       "dtype: float64</td>\n",
       "    </tr>\n",
       "    <tr>\n",
       "      <th>39</th>\n",
       "      <td>PC40</td>\n",
       "      <td>Explained Ratio    0.682262\n",
       "dtype: float64</td>\n",
       "    </tr>\n",
       "    <tr>\n",
       "      <th>40</th>\n",
       "      <td>PC41</td>\n",
       "      <td>Explained Ratio    0.692751\n",
       "dtype: float64</td>\n",
       "    </tr>\n",
       "    <tr>\n",
       "      <th>41</th>\n",
       "      <td>PC42</td>\n",
       "      <td>Explained Ratio    0.703188\n",
       "dtype: float64</td>\n",
       "    </tr>\n",
       "    <tr>\n",
       "      <th>42</th>\n",
       "      <td>PC43</td>\n",
       "      <td>Explained Ratio    0.713602\n",
       "dtype: float64</td>\n",
       "    </tr>\n",
       "    <tr>\n",
       "      <th>43</th>\n",
       "      <td>PC44</td>\n",
       "      <td>Explained Ratio    0.723545\n",
       "dtype: float64</td>\n",
       "    </tr>\n",
       "    <tr>\n",
       "      <th>44</th>\n",
       "      <td>PC45</td>\n",
       "      <td>Explained Ratio    0.733381\n",
       "dtype: float64</td>\n",
       "    </tr>\n",
       "    <tr>\n",
       "      <th>45</th>\n",
       "      <td>PC46</td>\n",
       "      <td>Explained Ratio    0.742838\n",
       "dtype: float64</td>\n",
       "    </tr>\n",
       "    <tr>\n",
       "      <th>46</th>\n",
       "      <td>PC47</td>\n",
       "      <td>Explained Ratio    0.751838\n",
       "dtype: float64</td>\n",
       "    </tr>\n",
       "    <tr>\n",
       "      <th>47</th>\n",
       "      <td>PC48</td>\n",
       "      <td>Explained Ratio    0.760522\n",
       "dtype: float64</td>\n",
       "    </tr>\n",
       "    <tr>\n",
       "      <th>48</th>\n",
       "      <td>PC49</td>\n",
       "      <td>Explained Ratio    0.76888\n",
       "dtype: float64</td>\n",
       "    </tr>\n",
       "    <tr>\n",
       "      <th>49</th>\n",
       "      <td>PC50</td>\n",
       "      <td>Explained Ratio    0.777003\n",
       "dtype: float64</td>\n",
       "    </tr>\n",
       "    <tr>\n",
       "      <th>50</th>\n",
       "      <td>PC51</td>\n",
       "      <td>Explained Ratio    0.784874\n",
       "dtype: float64</td>\n",
       "    </tr>\n",
       "    <tr>\n",
       "      <th>51</th>\n",
       "      <td>PC52</td>\n",
       "      <td>Explained Ratio    0.792646\n",
       "dtype: float64</td>\n",
       "    </tr>\n",
       "    <tr>\n",
       "      <th>52</th>\n",
       "      <td>PC53</td>\n",
       "      <td>Explained Ratio    0.800075\n",
       "dtype: float64</td>\n",
       "    </tr>\n",
       "    <tr>\n",
       "      <th>53</th>\n",
       "      <td>PC54</td>\n",
       "      <td>Explained Ratio    0.806976\n",
       "dtype: float64</td>\n",
       "    </tr>\n",
       "    <tr>\n",
       "      <th>54</th>\n",
       "      <td>PC55</td>\n",
       "      <td>Explained Ratio    0.813627\n",
       "dtype: float64</td>\n",
       "    </tr>\n",
       "  </tbody>\n",
       "</table>\n",
       "</div>"
      ],
      "text/plain": [
       "   Variable                                  Importance\n",
       "0       PC1       Explained Ratio    0.0\n",
       "dtype: float64\n",
       "1       PC2  Explained Ratio    0.035882\n",
       "dtype: float64\n",
       "2       PC3  Explained Ratio    0.069329\n",
       "dtype: float64\n",
       "3       PC4   Explained Ratio    0.10149\n",
       "dtype: float64\n",
       "4       PC5  Explained Ratio    0.128148\n",
       "dtype: float64\n",
       "5       PC6  Explained Ratio    0.153022\n",
       "dtype: float64\n",
       "6       PC7  Explained Ratio    0.177157\n",
       "dtype: float64\n",
       "7       PC8  Explained Ratio    0.199399\n",
       "dtype: float64\n",
       "8       PC9  Explained Ratio    0.221115\n",
       "dtype: float64\n",
       "9      PC10  Explained Ratio    0.242562\n",
       "dtype: float64\n",
       "10     PC11  Explained Ratio    0.263591\n",
       "dtype: float64\n",
       "11     PC12  Explained Ratio    0.284206\n",
       "dtype: float64\n",
       "12     PC13  Explained Ratio    0.304503\n",
       "dtype: float64\n",
       "13     PC14  Explained Ratio    0.324095\n",
       "dtype: float64\n",
       "14     PC15  Explained Ratio    0.342392\n",
       "dtype: float64\n",
       "15     PC16  Explained Ratio    0.359918\n",
       "dtype: float64\n",
       "16     PC17  Explained Ratio    0.376471\n",
       "dtype: float64\n",
       "17     PC18  Explained Ratio    0.392621\n",
       "dtype: float64\n",
       "18     PC19  Explained Ratio    0.408426\n",
       "dtype: float64\n",
       "19     PC20  Explained Ratio    0.424211\n",
       "dtype: float64\n",
       "20     PC21  Explained Ratio    0.439878\n",
       "dtype: float64\n",
       "21     PC22  Explained Ratio    0.455268\n",
       "dtype: float64\n",
       "22     PC23  Explained Ratio    0.470591\n",
       "dtype: float64\n",
       "23     PC24  Explained Ratio    0.485713\n",
       "dtype: float64\n",
       "24     PC25  Explained Ratio    0.500596\n",
       "dtype: float64\n",
       "25     PC26   Explained Ratio    0.51525\n",
       "dtype: float64\n",
       "26     PC27  Explained Ratio    0.529448\n",
       "dtype: float64\n",
       "27     PC28  Explained Ratio    0.543402\n",
       "dtype: float64\n",
       "28     PC29  Explained Ratio    0.557174\n",
       "dtype: float64\n",
       "29     PC30  Explained Ratio    0.570122\n",
       "dtype: float64\n",
       "30     PC31  Explained Ratio    0.582458\n",
       "dtype: float64\n",
       "31     PC32  Explained Ratio    0.594505\n",
       "dtype: float64\n",
       "32     PC33  Explained Ratio    0.606291\n",
       "dtype: float64\n",
       "33     PC34  Explained Ratio    0.617604\n",
       "dtype: float64\n",
       "34     PC35   Explained Ratio    0.62862\n",
       "dtype: float64\n",
       "35     PC36  Explained Ratio    0.639511\n",
       "dtype: float64\n",
       "36     PC37  Explained Ratio    0.650281\n",
       "dtype: float64\n",
       "37     PC38  Explained Ratio    0.661046\n",
       "dtype: float64\n",
       "38     PC39  Explained Ratio    0.671686\n",
       "dtype: float64\n",
       "39     PC40  Explained Ratio    0.682262\n",
       "dtype: float64\n",
       "40     PC41  Explained Ratio    0.692751\n",
       "dtype: float64\n",
       "41     PC42  Explained Ratio    0.703188\n",
       "dtype: float64\n",
       "42     PC43  Explained Ratio    0.713602\n",
       "dtype: float64\n",
       "43     PC44  Explained Ratio    0.723545\n",
       "dtype: float64\n",
       "44     PC45  Explained Ratio    0.733381\n",
       "dtype: float64\n",
       "45     PC46  Explained Ratio    0.742838\n",
       "dtype: float64\n",
       "46     PC47  Explained Ratio    0.751838\n",
       "dtype: float64\n",
       "47     PC48  Explained Ratio    0.760522\n",
       "dtype: float64\n",
       "48     PC49   Explained Ratio    0.76888\n",
       "dtype: float64\n",
       "49     PC50  Explained Ratio    0.777003\n",
       "dtype: float64\n",
       "50     PC51  Explained Ratio    0.784874\n",
       "dtype: float64\n",
       "51     PC52  Explained Ratio    0.792646\n",
       "dtype: float64\n",
       "52     PC53  Explained Ratio    0.800075\n",
       "dtype: float64\n",
       "53     PC54  Explained Ratio    0.806976\n",
       "dtype: float64\n",
       "54     PC55  Explained Ratio    0.813627\n",
       "dtype: float64"
      ]
     },
     "execution_count": 61,
     "metadata": {},
     "output_type": "execute_result"
    }
   ],
   "source": [
    "imp = []\n",
    "for im in range(explained_var_train.shape[0]):\n",
    "    imp.append(explained_var_train.head(im).sum()) #storing variance ratio and taking sum in each iteration\n",
    "explained_imp_df = pd.DataFrame() #new df\n",
    "explained_imp_df['Variable'] = pca_columns #new columns\n",
    "explained_imp_df['Importance'] = imp # storing values of imp\n",
    "explained_imp_df.head(55)"
   ]
  },
  {
   "cell_type": "markdown",
   "metadata": {},
   "source": [
    "df_train_scaled.shape[1]\n",
    "explained_var_train.shape[0]"
   ]
  },
  {
   "cell_type": "markdown",
   "metadata": {
    "id": "Su_M3P3npoqk"
   },
   "source": [
    "## Select top features which are covering 80% of the information <br> (n=53), <br> store this data into new dataframe,"
   ]
  },
  {
   "cell_type": "code",
   "execution_count": 62,
   "metadata": {},
   "outputs": [
    {
     "data": {
      "text/html": [
       "<div>\n",
       "<style scoped>\n",
       "    .dataframe tbody tr th:only-of-type {\n",
       "        vertical-align: middle;\n",
       "    }\n",
       "\n",
       "    .dataframe tbody tr th {\n",
       "        vertical-align: top;\n",
       "    }\n",
       "\n",
       "    .dataframe thead tr th {\n",
       "        text-align: left;\n",
       "    }\n",
       "</style>\n",
       "<table border=\"1\" class=\"dataframe\">\n",
       "  <thead>\n",
       "    <tr>\n",
       "      <th></th>\n",
       "      <th>PC1</th>\n",
       "      <th>PC2</th>\n",
       "      <th>PC3</th>\n",
       "      <th>PC4</th>\n",
       "      <th>PC5</th>\n",
       "      <th>PC6</th>\n",
       "      <th>PC7</th>\n",
       "      <th>PC8</th>\n",
       "      <th>PC9</th>\n",
       "      <th>PC10</th>\n",
       "      <th>...</th>\n",
       "      <th>PC44</th>\n",
       "      <th>PC45</th>\n",
       "      <th>PC46</th>\n",
       "      <th>PC47</th>\n",
       "      <th>PC48</th>\n",
       "      <th>PC49</th>\n",
       "      <th>PC50</th>\n",
       "      <th>PC51</th>\n",
       "      <th>PC52</th>\n",
       "      <th>PC53</th>\n",
       "    </tr>\n",
       "  </thead>\n",
       "  <tbody>\n",
       "    <tr>\n",
       "      <th>0</th>\n",
       "      <td>5.356832</td>\n",
       "      <td>-2.269660</td>\n",
       "      <td>-1.152894</td>\n",
       "      <td>-1.027763</td>\n",
       "      <td>0.162049</td>\n",
       "      <td>-0.915659</td>\n",
       "      <td>-0.481325</td>\n",
       "      <td>0.337981</td>\n",
       "      <td>0.085670</td>\n",
       "      <td>-0.100740</td>\n",
       "      <td>...</td>\n",
       "      <td>-0.183532</td>\n",
       "      <td>-0.133732</td>\n",
       "      <td>0.605142</td>\n",
       "      <td>0.151863</td>\n",
       "      <td>-0.416775</td>\n",
       "      <td>0.325779</td>\n",
       "      <td>0.649880</td>\n",
       "      <td>0.608786</td>\n",
       "      <td>0.251385</td>\n",
       "      <td>-0.231424</td>\n",
       "    </tr>\n",
       "    <tr>\n",
       "      <th>1</th>\n",
       "      <td>-0.147019</td>\n",
       "      <td>0.019750</td>\n",
       "      <td>-0.053033</td>\n",
       "      <td>0.799072</td>\n",
       "      <td>-0.439569</td>\n",
       "      <td>-0.153179</td>\n",
       "      <td>1.477217</td>\n",
       "      <td>-0.277420</td>\n",
       "      <td>-0.866861</td>\n",
       "      <td>0.110363</td>\n",
       "      <td>...</td>\n",
       "      <td>-0.130495</td>\n",
       "      <td>-0.159439</td>\n",
       "      <td>0.519020</td>\n",
       "      <td>-0.147283</td>\n",
       "      <td>-0.179858</td>\n",
       "      <td>0.321043</td>\n",
       "      <td>1.779370</td>\n",
       "      <td>1.324193</td>\n",
       "      <td>0.725761</td>\n",
       "      <td>0.288350</td>\n",
       "    </tr>\n",
       "    <tr>\n",
       "      <th>2</th>\n",
       "      <td>0.157736</td>\n",
       "      <td>-0.003591</td>\n",
       "      <td>-0.005469</td>\n",
       "      <td>0.810187</td>\n",
       "      <td>-0.614172</td>\n",
       "      <td>0.027217</td>\n",
       "      <td>1.094387</td>\n",
       "      <td>0.108553</td>\n",
       "      <td>-1.049959</td>\n",
       "      <td>0.088809</td>\n",
       "      <td>...</td>\n",
       "      <td>-0.161571</td>\n",
       "      <td>0.626763</td>\n",
       "      <td>-1.195831</td>\n",
       "      <td>1.745045</td>\n",
       "      <td>0.775802</td>\n",
       "      <td>-1.357018</td>\n",
       "      <td>-1.959353</td>\n",
       "      <td>-1.786283</td>\n",
       "      <td>-2.184607</td>\n",
       "      <td>1.311332</td>\n",
       "    </tr>\n",
       "    <tr>\n",
       "      <th>3</th>\n",
       "      <td>-0.817893</td>\n",
       "      <td>-0.911930</td>\n",
       "      <td>3.535448</td>\n",
       "      <td>0.336095</td>\n",
       "      <td>-0.903438</td>\n",
       "      <td>-0.164738</td>\n",
       "      <td>-0.588499</td>\n",
       "      <td>-1.258113</td>\n",
       "      <td>0.288441</td>\n",
       "      <td>-0.153515</td>\n",
       "      <td>...</td>\n",
       "      <td>0.136365</td>\n",
       "      <td>-0.075091</td>\n",
       "      <td>0.246965</td>\n",
       "      <td>0.026494</td>\n",
       "      <td>-0.451271</td>\n",
       "      <td>-0.300147</td>\n",
       "      <td>-0.918495</td>\n",
       "      <td>-0.700353</td>\n",
       "      <td>-0.156654</td>\n",
       "      <td>-0.078360</td>\n",
       "    </tr>\n",
       "    <tr>\n",
       "      <th>4</th>\n",
       "      <td>-0.509788</td>\n",
       "      <td>-1.051547</td>\n",
       "      <td>3.915086</td>\n",
       "      <td>0.487240</td>\n",
       "      <td>-0.841669</td>\n",
       "      <td>-0.060788</td>\n",
       "      <td>-0.677642</td>\n",
       "      <td>-1.392642</td>\n",
       "      <td>0.720134</td>\n",
       "      <td>-0.292129</td>\n",
       "      <td>...</td>\n",
       "      <td>0.092108</td>\n",
       "      <td>-0.038437</td>\n",
       "      <td>0.158554</td>\n",
       "      <td>-0.086464</td>\n",
       "      <td>-0.010383</td>\n",
       "      <td>0.111698</td>\n",
       "      <td>0.911712</td>\n",
       "      <td>0.433897</td>\n",
       "      <td>0.344212</td>\n",
       "      <td>-0.070964</td>\n",
       "    </tr>\n",
       "  </tbody>\n",
       "</table>\n",
       "<p>5 rows × 53 columns</p>\n",
       "</div>"
      ],
      "text/plain": [
       "        PC1       PC2       PC3       PC4       PC5       PC6       PC7  \\\n",
       "0  5.356832 -2.269660 -1.152894 -1.027763  0.162049 -0.915659 -0.481325   \n",
       "1 -0.147019  0.019750 -0.053033  0.799072 -0.439569 -0.153179  1.477217   \n",
       "2  0.157736 -0.003591 -0.005469  0.810187 -0.614172  0.027217  1.094387   \n",
       "3 -0.817893 -0.911930  3.535448  0.336095 -0.903438 -0.164738 -0.588499   \n",
       "4 -0.509788 -1.051547  3.915086  0.487240 -0.841669 -0.060788 -0.677642   \n",
       "\n",
       "        PC8       PC9      PC10  ...      PC44      PC45      PC46      PC47  \\\n",
       "0  0.337981  0.085670 -0.100740  ... -0.183532 -0.133732  0.605142  0.151863   \n",
       "1 -0.277420 -0.866861  0.110363  ... -0.130495 -0.159439  0.519020 -0.147283   \n",
       "2  0.108553 -1.049959  0.088809  ... -0.161571  0.626763 -1.195831  1.745045   \n",
       "3 -1.258113  0.288441 -0.153515  ...  0.136365 -0.075091  0.246965  0.026494   \n",
       "4 -1.392642  0.720134 -0.292129  ...  0.092108 -0.038437  0.158554 -0.086464   \n",
       "\n",
       "       PC48      PC49      PC50      PC51      PC52      PC53  \n",
       "0 -0.416775  0.325779  0.649880  0.608786  0.251385 -0.231424  \n",
       "1 -0.179858  0.321043  1.779370  1.324193  0.725761  0.288350  \n",
       "2  0.775802 -1.357018 -1.959353 -1.786283 -2.184607  1.311332  \n",
       "3 -0.451271 -0.300147 -0.918495 -0.700353 -0.156654 -0.078360  \n",
       "4 -0.010383  0.111698  0.911712  0.433897  0.344212 -0.070964  \n",
       "\n",
       "[5 rows x 53 columns]"
      ]
     },
     "execution_count": 62,
     "metadata": {},
     "output_type": "execute_result"
    }
   ],
   "source": [
    "pca_cols = []\n",
    "for i in range(53):\n",
    "    pca_cols.append('PC'+str(i+1))\n",
    "#pca_cols\n",
    "\n",
    "#after feature selection using pca we get 53 as optimal no. of features giving 80% information\n",
    "pca_model = PCA(n_components=53) \n",
    "pca_model.fit(df_train_scaled)\n",
    "df_pca_train_scaled = pd.DataFrame(pca_model.transform(df_train_scaled), columns=[pca_cols])\n",
    "df_pca_train_scaled.head()"
   ]
  },
  {
   "cell_type": "code",
   "execution_count": 63,
   "metadata": {},
   "outputs": [
    {
     "data": {
      "text/html": [
       "<div>\n",
       "<style scoped>\n",
       "    .dataframe tbody tr th:only-of-type {\n",
       "        vertical-align: middle;\n",
       "    }\n",
       "\n",
       "    .dataframe tbody tr th {\n",
       "        vertical-align: top;\n",
       "    }\n",
       "\n",
       "    .dataframe thead tr th {\n",
       "        text-align: left;\n",
       "    }\n",
       "</style>\n",
       "<table border=\"1\" class=\"dataframe\">\n",
       "  <thead>\n",
       "    <tr>\n",
       "      <th></th>\n",
       "      <th>PC1</th>\n",
       "      <th>PC2</th>\n",
       "      <th>PC3</th>\n",
       "      <th>PC4</th>\n",
       "      <th>PC5</th>\n",
       "      <th>PC6</th>\n",
       "      <th>PC7</th>\n",
       "      <th>PC8</th>\n",
       "      <th>PC9</th>\n",
       "      <th>PC10</th>\n",
       "      <th>...</th>\n",
       "      <th>PC44</th>\n",
       "      <th>PC45</th>\n",
       "      <th>PC46</th>\n",
       "      <th>PC47</th>\n",
       "      <th>PC48</th>\n",
       "      <th>PC49</th>\n",
       "      <th>PC50</th>\n",
       "      <th>PC51</th>\n",
       "      <th>PC52</th>\n",
       "      <th>PC53</th>\n",
       "    </tr>\n",
       "  </thead>\n",
       "  <tbody>\n",
       "    <tr>\n",
       "      <th>0</th>\n",
       "      <td>-0.129947</td>\n",
       "      <td>0.380962</td>\n",
       "      <td>-0.245832</td>\n",
       "      <td>1.356882</td>\n",
       "      <td>-1.034205</td>\n",
       "      <td>-0.135559</td>\n",
       "      <td>1.260035</td>\n",
       "      <td>0.374848</td>\n",
       "      <td>-1.044314</td>\n",
       "      <td>-0.420885</td>\n",
       "      <td>...</td>\n",
       "      <td>1.849765</td>\n",
       "      <td>-0.609695</td>\n",
       "      <td>1.489495</td>\n",
       "      <td>2.349230</td>\n",
       "      <td>1.219886</td>\n",
       "      <td>-1.616181</td>\n",
       "      <td>-0.608802</td>\n",
       "      <td>-1.468230</td>\n",
       "      <td>0.338300</td>\n",
       "      <td>-2.304283</td>\n",
       "    </tr>\n",
       "    <tr>\n",
       "      <th>1</th>\n",
       "      <td>0.922740</td>\n",
       "      <td>1.553537</td>\n",
       "      <td>0.766315</td>\n",
       "      <td>0.347336</td>\n",
       "      <td>1.320100</td>\n",
       "      <td>4.126013</td>\n",
       "      <td>1.091300</td>\n",
       "      <td>2.546543</td>\n",
       "      <td>2.733651</td>\n",
       "      <td>0.706493</td>\n",
       "      <td>...</td>\n",
       "      <td>0.319863</td>\n",
       "      <td>-0.637109</td>\n",
       "      <td>2.548839</td>\n",
       "      <td>-1.543811</td>\n",
       "      <td>-6.421269</td>\n",
       "      <td>-1.500786</td>\n",
       "      <td>-2.030487</td>\n",
       "      <td>8.211776</td>\n",
       "      <td>5.432861</td>\n",
       "      <td>-3.230106</td>\n",
       "    </tr>\n",
       "    <tr>\n",
       "      <th>2</th>\n",
       "      <td>0.816302</td>\n",
       "      <td>-0.289903</td>\n",
       "      <td>-0.106628</td>\n",
       "      <td>1.441975</td>\n",
       "      <td>-0.726447</td>\n",
       "      <td>0.391121</td>\n",
       "      <td>1.694272</td>\n",
       "      <td>0.190084</td>\n",
       "      <td>-1.599184</td>\n",
       "      <td>0.681838</td>\n",
       "      <td>...</td>\n",
       "      <td>-0.030845</td>\n",
       "      <td>-0.119157</td>\n",
       "      <td>-0.402986</td>\n",
       "      <td>0.925550</td>\n",
       "      <td>-0.234642</td>\n",
       "      <td>0.474535</td>\n",
       "      <td>-1.305131</td>\n",
       "      <td>0.111991</td>\n",
       "      <td>-0.504204</td>\n",
       "      <td>0.048426</td>\n",
       "    </tr>\n",
       "    <tr>\n",
       "      <th>3</th>\n",
       "      <td>4.956151</td>\n",
       "      <td>12.125706</td>\n",
       "      <td>2.013934</td>\n",
       "      <td>-2.461562</td>\n",
       "      <td>6.552229</td>\n",
       "      <td>10.517943</td>\n",
       "      <td>-0.181321</td>\n",
       "      <td>-1.316012</td>\n",
       "      <td>0.388244</td>\n",
       "      <td>-0.302482</td>\n",
       "      <td>...</td>\n",
       "      <td>0.022906</td>\n",
       "      <td>0.618996</td>\n",
       "      <td>1.688918</td>\n",
       "      <td>0.276857</td>\n",
       "      <td>2.461409</td>\n",
       "      <td>-0.456220</td>\n",
       "      <td>-0.182082</td>\n",
       "      <td>0.239915</td>\n",
       "      <td>0.382800</td>\n",
       "      <td>0.035528</td>\n",
       "    </tr>\n",
       "    <tr>\n",
       "      <th>4</th>\n",
       "      <td>-0.054881</td>\n",
       "      <td>-0.565640</td>\n",
       "      <td>3.331671</td>\n",
       "      <td>4.384195</td>\n",
       "      <td>-2.562887</td>\n",
       "      <td>0.321561</td>\n",
       "      <td>-3.155153</td>\n",
       "      <td>-5.840520</td>\n",
       "      <td>3.966412</td>\n",
       "      <td>2.825198</td>\n",
       "      <td>...</td>\n",
       "      <td>0.063599</td>\n",
       "      <td>0.113642</td>\n",
       "      <td>-0.253411</td>\n",
       "      <td>-0.081716</td>\n",
       "      <td>-0.320277</td>\n",
       "      <td>0.007330</td>\n",
       "      <td>0.085600</td>\n",
       "      <td>-0.017693</td>\n",
       "      <td>-0.106461</td>\n",
       "      <td>-0.011842</td>\n",
       "    </tr>\n",
       "  </tbody>\n",
       "</table>\n",
       "<p>5 rows × 53 columns</p>\n",
       "</div>"
      ],
      "text/plain": [
       "        PC1        PC2       PC3       PC4       PC5        PC6       PC7  \\\n",
       "0 -0.129947   0.380962 -0.245832  1.356882 -1.034205  -0.135559  1.260035   \n",
       "1  0.922740   1.553537  0.766315  0.347336  1.320100   4.126013  1.091300   \n",
       "2  0.816302  -0.289903 -0.106628  1.441975 -0.726447   0.391121  1.694272   \n",
       "3  4.956151  12.125706  2.013934 -2.461562  6.552229  10.517943 -0.181321   \n",
       "4 -0.054881  -0.565640  3.331671  4.384195 -2.562887   0.321561 -3.155153   \n",
       "\n",
       "        PC8       PC9      PC10  ...      PC44      PC45      PC46      PC47  \\\n",
       "0  0.374848 -1.044314 -0.420885  ...  1.849765 -0.609695  1.489495  2.349230   \n",
       "1  2.546543  2.733651  0.706493  ...  0.319863 -0.637109  2.548839 -1.543811   \n",
       "2  0.190084 -1.599184  0.681838  ... -0.030845 -0.119157 -0.402986  0.925550   \n",
       "3 -1.316012  0.388244 -0.302482  ...  0.022906  0.618996  1.688918  0.276857   \n",
       "4 -5.840520  3.966412  2.825198  ...  0.063599  0.113642 -0.253411 -0.081716   \n",
       "\n",
       "       PC48      PC49      PC50      PC51      PC52      PC53  \n",
       "0  1.219886 -1.616181 -0.608802 -1.468230  0.338300 -2.304283  \n",
       "1 -6.421269 -1.500786 -2.030487  8.211776  5.432861 -3.230106  \n",
       "2 -0.234642  0.474535 -1.305131  0.111991 -0.504204  0.048426  \n",
       "3  2.461409 -0.456220 -0.182082  0.239915  0.382800  0.035528  \n",
       "4 -0.320277  0.007330  0.085600 -0.017693 -0.106461 -0.011842  \n",
       "\n",
       "[5 rows x 53 columns]"
      ]
     },
     "execution_count": 63,
     "metadata": {},
     "output_type": "execute_result"
    }
   ],
   "source": [
    "# Same process will be applied for testing set:\n",
    "pca_cols = []\n",
    "for i in range(53):\n",
    "    pca_cols.append('PC'+str(i+1))\n",
    "#pca_cols\n",
    "\n",
    "#after feature selection using pca we get 53 as optimal no. of features giving 80% information\n",
    "pca_model = PCA(n_components=53) \n",
    "pca_model.fit(df_test_scaled)\n",
    "df_pca_test_scaled = pd.DataFrame(pca_model.transform(df_test_scaled), columns=[pca_cols])\n",
    "df_pca_test_scaled.head()"
   ]
  },
  {
   "cell_type": "markdown",
   "metadata": {
    "id": "xfPdNUxBpoql"
   },
   "source": [
    "## Split the Data Sets Into X and Y by dependent and independent variables (data selected by PCA)"
   ]
  },
  {
   "cell_type": "code",
   "execution_count": 64,
   "metadata": {
    "id": "ktXK9RIOpoqm"
   },
   "outputs": [],
   "source": [
    "X = df_pca_train_scaled\n",
    "Y = df_train['Consumer disputed?']"
   ]
  },
  {
   "cell_type": "code",
   "execution_count": 65,
   "metadata": {},
   "outputs": [
    {
     "name": "stdout",
     "output_type": "stream",
     "text": [
      "(358810, 53)\n",
      "(358810,)\n"
     ]
    }
   ],
   "source": [
    "print(X.shape)\n",
    "print(Y.shape)"
   ]
  },
  {
   "cell_type": "markdown",
   "metadata": {
    "id": "4liyt_jZpoqm"
   },
   "source": [
    "## Split data into Train and Test datasets<br>(for test data use test excel file data)"
   ]
  },
  {
   "cell_type": "code",
   "execution_count": 66,
   "metadata": {
    "id": "-ZmGXmwjpoqn"
   },
   "outputs": [],
   "source": [
    "X_train, X_train_val, Y_train, Y_train_val = train_test_split(X, Y, test_size=0.3) #splitting data into 70%-30% ratio\n",
    "X_test = df_pca_test_scaled"
   ]
  },
  {
   "cell_type": "markdown",
   "metadata": {
    "id": "hCl_eDoMpoqn"
   },
   "source": [
    "## Shapes of the datasets"
   ]
  },
  {
   "cell_type": "code",
   "execution_count": 67,
   "metadata": {
    "id": "JMK5Jk7opoqo"
   },
   "outputs": [
    {
     "data": {
      "text/plain": [
       "((251167, 53), (107643, 53), (251167,), (107643,), (119606, 53))"
      ]
     },
     "execution_count": 67,
     "metadata": {},
     "output_type": "execute_result"
    }
   ],
   "source": [
    "X_train.shape, X_train_val.shape, Y_train.shape, Y_train_val.shape, X_test.shape"
   ]
  },
  {
   "cell_type": "markdown",
   "metadata": {
    "id": "L6d3W9nbpoqp"
   },
   "source": [
    "**Model building**\n",
    "Build given models and mesure their test and validation accuracy \n",
    "build given models:\n",
    "1. LogisticRegression\n",
    "2. DecisionTreeClassifier\n",
    "3. RandomForestClassifier\n",
    "4. AdaBoostClassifier\n",
    "5. GradientBoostingClassifier\n",
    "6. KNeighborsClassifier\n",
    "7. XGBClassifier\n",
    " "
   ]
  },
  {
   "cell_type": "code",
   "execution_count": 68,
   "metadata": {},
   "outputs": [
    {
     "data": {
      "text/html": [
       "<div>\n",
       "<style scoped>\n",
       "    .dataframe tbody tr th:only-of-type {\n",
       "        vertical-align: middle;\n",
       "    }\n",
       "\n",
       "    .dataframe tbody tr th {\n",
       "        vertical-align: top;\n",
       "    }\n",
       "\n",
       "    .dataframe thead th {\n",
       "        text-align: right;\n",
       "    }\n",
       "</style>\n",
       "<table border=\"1\" class=\"dataframe\">\n",
       "  <thead>\n",
       "    <tr style=\"text-align: right;\">\n",
       "      <th></th>\n",
       "      <th>Model names</th>\n",
       "      <th>Training Accuracy</th>\n",
       "      <th>Validation Accuracy</th>\n",
       "      <th>Difference</th>\n",
       "    </tr>\n",
       "  </thead>\n",
       "  <tbody>\n",
       "    <tr>\n",
       "      <th>0</th>\n",
       "      <td>LogisticRegression</td>\n",
       "      <td>0.788213</td>\n",
       "      <td>0.786544</td>\n",
       "      <td>0.211645</td>\n",
       "    </tr>\n",
       "    <tr>\n",
       "      <th>3</th>\n",
       "      <td>AdaBoostClassifier</td>\n",
       "      <td>0.788209</td>\n",
       "      <td>0.786544</td>\n",
       "      <td>0.211141</td>\n",
       "    </tr>\n",
       "    <tr>\n",
       "      <th>4</th>\n",
       "      <td>GradientBoostingClassifier</td>\n",
       "      <td>0.788240</td>\n",
       "      <td>0.786535</td>\n",
       "      <td>0.216352</td>\n",
       "    </tr>\n",
       "    <tr>\n",
       "      <th>6</th>\n",
       "      <td>XGBClassifier</td>\n",
       "      <td>0.788858</td>\n",
       "      <td>0.786377</td>\n",
       "      <td>0.314432</td>\n",
       "    </tr>\n",
       "    <tr>\n",
       "      <th>2</th>\n",
       "      <td>RandomForestClassifier</td>\n",
       "      <td>0.801021</td>\n",
       "      <td>0.774663</td>\n",
       "      <td>3.290588</td>\n",
       "    </tr>\n",
       "    <tr>\n",
       "      <th>1</th>\n",
       "      <td>DecisionTreeClassifier</td>\n",
       "      <td>0.801033</td>\n",
       "      <td>0.774588</td>\n",
       "      <td>3.301308</td>\n",
       "    </tr>\n",
       "    <tr>\n",
       "      <th>5</th>\n",
       "      <td>KNeighborsClassifier</td>\n",
       "      <td>0.763731</td>\n",
       "      <td>0.748948</td>\n",
       "      <td>1.935628</td>\n",
       "    </tr>\n",
       "  </tbody>\n",
       "</table>\n",
       "</div>"
      ],
      "text/plain": [
       "                  Model names  Training Accuracy  Validation Accuracy  \\\n",
       "0          LogisticRegression           0.788213             0.786544   \n",
       "3          AdaBoostClassifier           0.788209             0.786544   \n",
       "4  GradientBoostingClassifier           0.788240             0.786535   \n",
       "6               XGBClassifier           0.788858             0.786377   \n",
       "2      RandomForestClassifier           0.801021             0.774663   \n",
       "1      DecisionTreeClassifier           0.801033             0.774588   \n",
       "5        KNeighborsClassifier           0.763731             0.748948   \n",
       "\n",
       "   Difference  \n",
       "0    0.211645  \n",
       "3    0.211141  \n",
       "4    0.216352  \n",
       "6    0.314432  \n",
       "2    3.290588  \n",
       "1    3.301308  \n",
       "5    1.935628  "
      ]
     },
     "execution_count": 68,
     "metadata": {},
     "output_type": "execute_result"
    }
   ],
   "source": [
    "Models = [LogisticRegression(), DecisionTreeClassifier(),\n",
    "          RandomForestClassifier(), AdaBoostClassifier(),\n",
    "          GradientBoostingClassifier(), KNeighborsClassifier(),\n",
    "          XGBClassifier()]\n",
    "model_name = []\n",
    "accuracy_train = []\n",
    "accuracy_val = []\n",
    "for model in Models:\n",
    "    model.fit(X_train, Y_train)\n",
    "    y_pred_train = model.predict(X_train)\n",
    "    y_pred_val = model.predict(X_train_val)\n",
    "    model_name.append(type(model).__name__)\n",
    "    accuracy_train.append(accuracy_score(Y_train, y_pred_train))\n",
    "    accuracy_val.append(accuracy_score(Y_train_val, y_pred_val))\n",
    "\n",
    "data_df = {'Model names':model_name, 'Training Accuracy':accuracy_train, 'Validation Accuracy': accuracy_val}\n",
    "data_df = pd.DataFrame(data_df)\n",
    "data_df['Difference'] = ((np.abs(data_df['Training Accuracy'] - data_df['Validation Accuracy'])) *100)/(data_df['Training Accuracy']) \n",
    "data_df.sort_values(by = 'Validation Accuracy', ascending = False)"
   ]
  },
  {
   "cell_type": "markdown",
   "metadata": {},
   "source": [
    "#### <i> As per output, we can determine that Logistic Regression model will be the best model to take in consideration for this dataset. <i>"
   ]
  },
  {
   "cell_type": "markdown",
   "metadata": {
    "id": "NBfwkKjwpoqr"
   },
   "source": [
    "## Final Model and Prediction for test data file"
   ]
  },
  {
   "cell_type": "code",
   "execution_count": 69,
   "metadata": {
    "id": "J1mL-GJ2poqr"
   },
   "outputs": [
    {
     "data": {
      "text/html": [
       "<div>\n",
       "<style scoped>\n",
       "    .dataframe tbody tr th:only-of-type {\n",
       "        vertical-align: middle;\n",
       "    }\n",
       "\n",
       "    .dataframe tbody tr th {\n",
       "        vertical-align: top;\n",
       "    }\n",
       "\n",
       "    .dataframe thead th {\n",
       "        text-align: right;\n",
       "    }\n",
       "</style>\n",
       "<table border=\"1\" class=\"dataframe\">\n",
       "  <thead>\n",
       "    <tr style=\"text-align: right;\">\n",
       "      <th></th>\n",
       "      <th>Predictions</th>\n",
       "    </tr>\n",
       "  </thead>\n",
       "  <tbody>\n",
       "    <tr>\n",
       "      <th>0</th>\n",
       "      <td>0</td>\n",
       "    </tr>\n",
       "    <tr>\n",
       "      <th>1</th>\n",
       "      <td>1</td>\n",
       "    </tr>\n",
       "    <tr>\n",
       "      <th>2</th>\n",
       "      <td>0</td>\n",
       "    </tr>\n",
       "    <tr>\n",
       "      <th>3</th>\n",
       "      <td>0</td>\n",
       "    </tr>\n",
       "    <tr>\n",
       "      <th>4</th>\n",
       "      <td>0</td>\n",
       "    </tr>\n",
       "  </tbody>\n",
       "</table>\n",
       "</div>"
      ],
      "text/plain": [
       "   Predictions\n",
       "0            0\n",
       "1            1\n",
       "2            0\n",
       "3            0\n",
       "4            0"
      ]
     },
     "execution_count": 69,
     "metadata": {},
     "output_type": "execute_result"
    }
   ],
   "source": [
    "Lr = LogisticRegression()\n",
    "Lr.fit(X_train, Y_train)\n",
    "Y_prediction_test = Lr.predict(X_test)\n",
    "Prediction = pd.DataFrame(Y_prediction_test, columns=['Predictions'])\n",
    "Prediction.head()"
   ]
  },
  {
   "cell_type": "markdown",
   "metadata": {
    "id": "QEMqjpS5poqr"
   },
   "source": [
    "## Export Predictions to CSV"
   ]
  },
  {
   "cell_type": "code",
   "execution_count": 70,
   "metadata": {
    "id": "MKDCpggppoqr"
   },
   "outputs": [],
   "source": [
    "Prediction.to_csv('Predictions_test.csv')"
   ]
  },
  {
   "cell_type": "code",
   "execution_count": null,
   "metadata": {
    "id": "UtsmRxQEpoqs"
   },
   "outputs": [],
   "source": []
  },
  {
   "cell_type": "code",
   "execution_count": null,
   "metadata": {},
   "outputs": [],
   "source": []
  },
  {
   "cell_type": "code",
   "execution_count": null,
   "metadata": {},
   "outputs": [],
   "source": []
  }
 ],
 "metadata": {
  "colab": {
   "collapsed_sections": [],
   "name": "consumer complaint resolution question file.ipynb",
   "provenance": []
  },
  "kernelspec": {
   "display_name": "Python 3 (ipykernel)",
   "language": "python",
   "name": "python3"
  },
  "language_info": {
   "codemirror_mode": {
    "name": "ipython",
    "version": 3
   },
   "file_extension": ".py",
   "mimetype": "text/x-python",
   "name": "python",
   "nbconvert_exporter": "python",
   "pygments_lexer": "ipython3",
   "version": "3.11.4"
  }
 },
 "nbformat": 4,
 "nbformat_minor": 1
}
